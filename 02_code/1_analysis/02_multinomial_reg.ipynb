{
 "cells": [
  {
   "cell_type": "code",
   "execution_count": 1,
   "metadata": {},
   "outputs": [],
   "source": [
    "import pandas as pd\n",
    "import statsmodels.api as sm"
   ]
  },
  {
   "cell_type": "markdown",
   "metadata": {},
   "source": [
    "Warning: Runnig this model gives out warnings that we could not deal with. It may has to do with memory, or the form and shape of our current data. It will cause some tables to be filled with missing values each time you run the model. It seemed that the more you run it, the more missing values it creates.\n",
    "Same for the second model in the next block."
   ]
  },
  {
   "cell_type": "code",
   "execution_count": null,
   "metadata": {},
   "outputs": [],
   "source": [
    "df_markets = pd.read_csv('../../01_data/02_pre/markets_info.csv')\n",
    "\n",
    "\n",
    "with open('../../03_documentation/multinomial_reg_results.txt', 'w') as f:\n",
    "    for ticker in df_markets['ticker']:\n",
    "        df= pd.read_csv(f'../../01_data/03_analysis/{ticker}.csv')\n",
    "        \n",
    "        #Dealing with missing values\n",
    "        df[['sum', 'max_mag', 'max_sig', 'min_depth', 'min_dist', 'tsunami']] = df[['sum', 'max_mag', 'max_sig', 'min_depth', 'min_dist', 'tsunami']].fillna(0)\n",
    "        df['rev_dist'] = df['min_dist'].apply(lambda x: 0 if x == 0 else 1 / x)\n",
    "        df['rev_dist_sq'] = df['rev_dist'] * df['rev_dist']\n",
    "        df['rev_depth'] = df['min_depth'].apply(lambda x: 0 if x == 0 else 1 / x)\n",
    "    \n",
    "        #This part creates the regression model\n",
    "        X = sm.add_constant(df[['num', 'max_sig', 'rev_dist']])\n",
    "        y = df['effect']\n",
    "        mlogit_model = sm.MNLogit(y, X)\n",
    "        mlogit_model.fit(method='bfgs', maxiter=200)\n",
    "        result = mlogit_model.fit()\n",
    "        \n",
    "\n",
    "        #Saving it to the file\n",
    "        f.write(f\"Ticker: {ticker}\\n\")\n",
    "        f.write(result.summary().as_text())\n",
    "        f.write(\"\\n\" + \"=\"*80 + \"\\n\")"
   ]
  },
  {
   "cell_type": "markdown",
   "metadata": {},
   "source": [
    "As the model assumes that depth and distance are reversely associated with change in the market, when we assign 0 to them the model will be confused. Therefore I assigned maximum, unreal numbers, to both to see if they might matter. Turns out, they don't."
   ]
  },
  {
   "cell_type": "code",
   "execution_count": null,
   "metadata": {},
   "outputs": [],
   "source": [
    "df_markets = pd.read_csv('data/test/markets.csv')\n",
    "\n",
    "\n",
    "with open('data/test/linear/results_logistic corrected distance and depth.txt', 'w') as f:\n",
    "    for ticker in df_markets['Ticker']:\n",
    "        df= pd.read_csv(f'data/test/linear/{ticker}.csv')\n",
    "        \n",
    "        #Dealing with missing values\n",
    "        df[['sum', 'max_mag', 'max_sig', 'tsunami']] = df[['sum', 'max_mag', 'max_sig', 'tsunami']].fillna(0)\n",
    "        df[['min_dist']] = df[['min_dist']].fillna(20000)\n",
    "        df[['min_depth']] = df[['min_depth']].fillna(20000)\n",
    "        df['rev_dist'] = df['min_dist'].apply(lambda x: 0 if x == 0 else 1 / x)\n",
    "        df['rev_dist_sq'] = df['rev_dist'] * df['rev_dist']\n",
    "        df['rev_depth'] = df['min_depth'].apply(lambda x: 0 if x == 0 else 1 / x)\n",
    "    \n",
    "    \n",
    "        #This part creates the regression model\n",
    "        X = sm.add_constant(df[['num', 'max_sig', 'rev_dist']])\n",
    "        y = df['effect']\n",
    "        mlogit_model = sm.MNLogit(y, X)\n",
    "        mlogit_model.fit(method='bfgs', maxiter=200)\n",
    "        result = mlogit_model.fit()\n",
    "        \n",
    "\n",
    "        #Saving it to the file\n",
    "        f.write(f\"Ticker: {ticker}\\n\")\n",
    "        f.write(result.summary().as_text())\n",
    "        f.write(\"\\n\" + \"=\"*80 + \"\\n\")"
   ]
  }
 ],
 "metadata": {
  "kernelspec": {
   "display_name": "Python 3",
   "language": "python",
   "name": "python3"
  },
  "language_info": {
   "codemirror_mode": {
    "name": "ipython",
    "version": 3
   },
   "file_extension": ".py",
   "mimetype": "text/x-python",
   "name": "python",
   "nbconvert_exporter": "python",
   "pygments_lexer": "ipython3",
   "version": "3.13.0"
  }
 },
 "nbformat": 4,
 "nbformat_minor": 2
}
