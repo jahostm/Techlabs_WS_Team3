{
 "cells": [
  {
   "cell_type": "code",
   "execution_count": 1,
   "metadata": {},
   "outputs": [],
   "source": [
    "import pandas as pd\n",
    "import statsmodels.api as sm"
   ]
  },
  {
   "cell_type": "markdown",
   "metadata": {},
   "source": [
    "Warning: Runnig this model gives out warnings that we could not deal with. It may has to do with memory, or the form and shape of our current data. It will cause some tables to be filled with missing values each time you run the model. It seemed that the more you run it, the more missing values it creates.\n",
    "Same for the second model in the next block."
   ]
  },
  {
   "cell_type": "code",
   "execution_count": null,
   "metadata": {},
   "outputs": [],
   "source": [
    "df_markets = pd.read_csv('../../01_data/02_pre/markets_info.csv')\n",
    "\n",
    "\n",
    "with open('../../03_documentation/multinomial_reg_results.txt', 'w') as f:\n",
    "    for ticker in df_markets['ticker']:\n",
    "        df= pd.read_csv(f'../../01_data/03_analysis/{ticker}.csv')\n",
    "        \n",
    "        #Dealing with missing values\n",
    "        df[['sum', 'max_mag', 'max_sig', 'min_depth', 'min_dist', 'tsunami']] = df[['sum', 'max_mag', 'max_sig', 'min_depth', 'min_dist', 'tsunami']].fillna(0)\n",
    "        df['rev_dist'] = df['min_dist'].apply(lambda x: 0 if x == 0 else 1 / x)\n",
    "        df['rev_dist_sq'] = df['rev_dist'] * df['rev_dist']\n",
    "        df['rev_depth'] = df['min_depth'].apply(lambda x: 0 if x == 0 else 1 / x)\n",
    "    \n",
    "        #This part creates the regression model\n",
    "        X = sm.add_constant(df[['num', 'max_sig', 'rev_dist']])\n",
    "        y = df['effect']\n",
    "        mlogit_model = sm.MNLogit(y, X)\n",
    "        mlogit_model.fit(method='bfgs', maxiter=200)\n",
    "        result = mlogit_model.fit()\n",
    "        \n",
    "\n",
    "        #Saving it to the file\n",
    "        f.write(f\"Ticker: {ticker}\\n\")\n",
    "        f.write(result.summary().as_text())\n",
    "        f.write(\"\\n\" + \"=\"*80 + \"\\n\")"
   ]
  },
  {
   "cell_type": "markdown",
   "metadata": {},
   "source": [
    "As the model assumes that depth and distance are reversely associated with change in the market, when we assign 0 to them the model will be confused. Therefore I assigned maximum, unreal numbers, to both to see if they might matter. Turns out, they don't."
   ]
  },
  {
   "cell_type": "code",
   "execution_count": null,
   "metadata": {},
   "outputs": [
    {
     "name": "stderr",
     "output_type": "stream",
     "text": [
      "c:\\Users\\SJANO\\AppData\\Local\\Programs\\Python\\Python313\\Lib\\site-packages\\statsmodels\\discrete\\discrete_model.py:3059: RuntimeWarning: divide by zero encountered in log\n",
      "  logprob = np.log(self.cdf(np.dot(self.exog,params)))\n",
      "c:\\Users\\SJANO\\AppData\\Local\\Programs\\Python\\Python313\\Lib\\site-packages\\statsmodels\\discrete\\discrete_model.py:3060: RuntimeWarning: invalid value encountered in multiply\n",
      "  return np.sum(d * logprob)\n",
      "c:\\Users\\SJANO\\AppData\\Local\\Programs\\Python\\Python313\\Lib\\site-packages\\statsmodels\\discrete\\discrete_model.py:3027: RuntimeWarning: overflow encountered in exp\n",
      "  eXB = np.column_stack((np.ones(len(X)), np.exp(X)))\n",
      "c:\\Users\\SJANO\\AppData\\Local\\Programs\\Python\\Python313\\Lib\\site-packages\\statsmodels\\discrete\\discrete_model.py:3028: RuntimeWarning: invalid value encountered in divide\n",
      "  return eXB/eXB.sum(1)[:,None]\n",
      "c:\\Users\\SJANO\\AppData\\Local\\Programs\\Python\\Python313\\Lib\\site-packages\\statsmodels\\discrete\\discrete_model.py:3027: RuntimeWarning: overflow encountered in exp\n",
      "  eXB = np.column_stack((np.ones(len(X)), np.exp(X)))\n",
      "c:\\Users\\SJANO\\AppData\\Local\\Programs\\Python\\Python313\\Lib\\site-packages\\statsmodels\\discrete\\discrete_model.py:3028: RuntimeWarning: invalid value encountered in divide\n",
      "  return eXB/eXB.sum(1)[:,None]\n",
      "c:\\Users\\SJANO\\AppData\\Local\\Programs\\Python\\Python313\\Lib\\site-packages\\statsmodels\\discrete\\discrete_model.py:3059: RuntimeWarning: divide by zero encountered in log\n",
      "  logprob = np.log(self.cdf(np.dot(self.exog,params)))\n",
      "c:\\Users\\SJANO\\AppData\\Local\\Programs\\Python\\Python313\\Lib\\site-packages\\statsmodels\\discrete\\discrete_model.py:3060: RuntimeWarning: invalid value encountered in multiply\n",
      "  return np.sum(d * logprob)\n",
      "c:\\Users\\SJANO\\AppData\\Local\\Programs\\Python\\Python313\\Lib\\site-packages\\statsmodels\\discrete\\discrete_model.py:3027: RuntimeWarning: overflow encountered in exp\n",
      "  eXB = np.column_stack((np.ones(len(X)), np.exp(X)))\n",
      "c:\\Users\\SJANO\\AppData\\Local\\Programs\\Python\\Python313\\Lib\\site-packages\\statsmodels\\discrete\\discrete_model.py:3028: RuntimeWarning: invalid value encountered in divide\n",
      "  return eXB/eXB.sum(1)[:,None]\n",
      "c:\\Users\\SJANO\\AppData\\Local\\Programs\\Python\\Python313\\Lib\\site-packages\\scipy\\optimize\\_optimize.py:1313: OptimizeWarning: Desired error not necessarily achieved due to precision loss.\n",
      "  res = _minimize_bfgs(f, x0, args, fprime, callback=callback, **opts)\n",
      "c:\\Users\\SJANO\\AppData\\Local\\Programs\\Python\\Python313\\Lib\\site-packages\\statsmodels\\base\\model.py:595: HessianInversionWarning: Inverting hessian failed, no bse or cov_params available\n",
      "  warnings.warn('Inverting hessian failed, no bse or cov_params '\n",
      "c:\\Users\\SJANO\\AppData\\Local\\Programs\\Python\\Python313\\Lib\\site-packages\\statsmodels\\base\\model.py:607: ConvergenceWarning: Maximum Likelihood optimization failed to converge. Check mle_retvals\n",
      "  warnings.warn(\"Maximum Likelihood optimization failed to \"\n",
      "c:\\Users\\SJANO\\AppData\\Local\\Programs\\Python\\Python313\\Lib\\site-packages\\statsmodels\\base\\model.py:607: ConvergenceWarning: Maximum Likelihood optimization failed to converge. Check mle_retvals\n",
      "  warnings.warn(\"Maximum Likelihood optimization failed to \"\n"
     ]
    },
    {
     "name": "stdout",
     "output_type": "stream",
     "text": [
      "         Current function value: nan\n",
      "         Iterations: 3\n",
      "         Function evaluations: 125\n",
      "         Gradient evaluations: 125\n",
      "Warning: Maximum number of iterations has been exceeded.\n",
      "         Current function value: 0.468043\n",
      "         Iterations: 35\n"
     ]
    },
    {
     "name": "stderr",
     "output_type": "stream",
     "text": [
      "c:\\Users\\SJANO\\AppData\\Local\\Programs\\Python\\Python313\\Lib\\site-packages\\statsmodels\\discrete\\discrete_model.py:3059: RuntimeWarning: divide by zero encountered in log\n",
      "  logprob = np.log(self.cdf(np.dot(self.exog,params)))\n",
      "c:\\Users\\SJANO\\AppData\\Local\\Programs\\Python\\Python313\\Lib\\site-packages\\statsmodels\\discrete\\discrete_model.py:3060: RuntimeWarning: invalid value encountered in multiply\n",
      "  return np.sum(d * logprob)\n",
      "c:\\Users\\SJANO\\AppData\\Local\\Programs\\Python\\Python313\\Lib\\site-packages\\statsmodels\\discrete\\discrete_model.py:3027: RuntimeWarning: overflow encountered in exp\n",
      "  eXB = np.column_stack((np.ones(len(X)), np.exp(X)))\n",
      "c:\\Users\\SJANO\\AppData\\Local\\Programs\\Python\\Python313\\Lib\\site-packages\\statsmodels\\discrete\\discrete_model.py:3028: RuntimeWarning: invalid value encountered in divide\n",
      "  return eXB/eXB.sum(1)[:,None]\n",
      "c:\\Users\\SJANO\\AppData\\Local\\Programs\\Python\\Python313\\Lib\\site-packages\\statsmodels\\discrete\\discrete_model.py:3059: RuntimeWarning: divide by zero encountered in log\n",
      "  logprob = np.log(self.cdf(np.dot(self.exog,params)))\n",
      "c:\\Users\\SJANO\\AppData\\Local\\Programs\\Python\\Python313\\Lib\\site-packages\\statsmodels\\discrete\\discrete_model.py:3060: RuntimeWarning: invalid value encountered in multiply\n",
      "  return np.sum(d * logprob)\n",
      "c:\\Users\\SJANO\\AppData\\Local\\Programs\\Python\\Python313\\Lib\\site-packages\\statsmodels\\base\\model.py:607: ConvergenceWarning: Maximum Likelihood optimization failed to converge. Check mle_retvals\n",
      "  warnings.warn(\"Maximum Likelihood optimization failed to \"\n"
     ]
    },
    {
     "name": "stdout",
     "output_type": "stream",
     "text": [
      "Optimization terminated successfully.\n",
      "         Current function value: 0.403868\n",
      "         Iterations: 32\n",
      "         Function evaluations: 39\n",
      "         Gradient evaluations: 39\n",
      "Optimization terminated successfully.\n",
      "         Current function value: nan\n",
      "         Iterations 9\n",
      "Optimization terminated successfully.\n",
      "         Current function value: 0.352560\n",
      "         Iterations: 34\n",
      "         Function evaluations: 43\n",
      "         Gradient evaluations: 43\n",
      "Warning: Maximum number of iterations has been exceeded.\n",
      "         Current function value: 0.949703\n",
      "         Iterations: 35\n"
     ]
    },
    {
     "name": "stderr",
     "output_type": "stream",
     "text": [
      "c:\\Users\\SJANO\\AppData\\Local\\Programs\\Python\\Python313\\Lib\\site-packages\\statsmodels\\discrete\\discrete_model.py:3059: RuntimeWarning: divide by zero encountered in log\n",
      "  logprob = np.log(self.cdf(np.dot(self.exog,params)))\n",
      "c:\\Users\\SJANO\\AppData\\Local\\Programs\\Python\\Python313\\Lib\\site-packages\\statsmodels\\discrete\\discrete_model.py:3060: RuntimeWarning: invalid value encountered in multiply\n",
      "  return np.sum(d * logprob)\n",
      "c:\\Users\\SJANO\\AppData\\Local\\Programs\\Python\\Python313\\Lib\\site-packages\\statsmodels\\discrete\\discrete_model.py:3027: RuntimeWarning: overflow encountered in exp\n",
      "  eXB = np.column_stack((np.ones(len(X)), np.exp(X)))\n",
      "c:\\Users\\SJANO\\AppData\\Local\\Programs\\Python\\Python313\\Lib\\site-packages\\statsmodels\\discrete\\discrete_model.py:3028: RuntimeWarning: invalid value encountered in divide\n",
      "  return eXB/eXB.sum(1)[:,None]\n",
      "c:\\Users\\SJANO\\AppData\\Local\\Programs\\Python\\Python313\\Lib\\site-packages\\statsmodels\\base\\model.py:607: ConvergenceWarning: Maximum Likelihood optimization failed to converge. Check mle_retvals\n",
      "  warnings.warn(\"Maximum Likelihood optimization failed to \"\n"
     ]
    },
    {
     "name": "stdout",
     "output_type": "stream",
     "text": [
      "Optimization terminated successfully.\n",
      "         Current function value: 0.457566\n",
      "         Iterations: 94\n",
      "         Function evaluations: 114\n",
      "         Gradient evaluations: 114\n",
      "Warning: Maximum number of iterations has been exceeded.\n",
      "         Current function value: nan\n",
      "         Iterations: 35\n"
     ]
    },
    {
     "name": "stderr",
     "output_type": "stream",
     "text": [
      "c:\\Users\\SJANO\\AppData\\Local\\Programs\\Python\\Python313\\Lib\\site-packages\\statsmodels\\discrete\\discrete_model.py:3059: RuntimeWarning: divide by zero encountered in log\n",
      "  logprob = np.log(self.cdf(np.dot(self.exog,params)))\n",
      "c:\\Users\\SJANO\\AppData\\Local\\Programs\\Python\\Python313\\Lib\\site-packages\\statsmodels\\discrete\\discrete_model.py:3060: RuntimeWarning: invalid value encountered in multiply\n",
      "  return np.sum(d * logprob)\n",
      "c:\\Users\\SJANO\\AppData\\Local\\Programs\\Python\\Python313\\Lib\\site-packages\\statsmodels\\base\\model.py:607: ConvergenceWarning: Maximum Likelihood optimization failed to converge. Check mle_retvals\n",
      "  warnings.warn(\"Maximum Likelihood optimization failed to \"\n"
     ]
    },
    {
     "name": "stdout",
     "output_type": "stream",
     "text": [
      "Optimization terminated successfully.\n",
      "         Current function value: 0.476043\n",
      "         Iterations: 88\n",
      "         Function evaluations: 106\n",
      "         Gradient evaluations: 106\n",
      "Warning: Maximum number of iterations has been exceeded.\n",
      "         Current function value: 0.499103\n",
      "         Iterations: 35\n"
     ]
    },
    {
     "name": "stderr",
     "output_type": "stream",
     "text": [
      "c:\\Users\\SJANO\\AppData\\Local\\Programs\\Python\\Python313\\Lib\\site-packages\\statsmodels\\discrete\\discrete_model.py:5475: RuntimeWarning: invalid value encountered in sqrt\n",
      "  bse = np.sqrt(np.diag(self.cov_params()))\n",
      "c:\\Users\\SJANO\\AppData\\Local\\Programs\\Python\\Python313\\Lib\\site-packages\\statsmodels\\discrete\\discrete_model.py:3059: RuntimeWarning: divide by zero encountered in log\n",
      "  logprob = np.log(self.cdf(np.dot(self.exog,params)))\n",
      "c:\\Users\\SJANO\\AppData\\Local\\Programs\\Python\\Python313\\Lib\\site-packages\\statsmodels\\discrete\\discrete_model.py:3060: RuntimeWarning: invalid value encountered in multiply\n",
      "  return np.sum(d * logprob)\n",
      "c:\\Users\\SJANO\\AppData\\Local\\Programs\\Python\\Python313\\Lib\\site-packages\\statsmodels\\discrete\\discrete_model.py:3059: RuntimeWarning: divide by zero encountered in log\n",
      "  logprob = np.log(self.cdf(np.dot(self.exog,params)))\n",
      "c:\\Users\\SJANO\\AppData\\Local\\Programs\\Python\\Python313\\Lib\\site-packages\\statsmodels\\discrete\\discrete_model.py:3060: RuntimeWarning: invalid value encountered in multiply\n",
      "  return np.sum(d * logprob)\n",
      "c:\\Users\\SJANO\\AppData\\Local\\Programs\\Python\\Python313\\Lib\\site-packages\\scipy\\optimize\\_optimize.py:1313: OptimizeWarning: Desired error not necessarily achieved due to precision loss.\n",
      "  res = _minimize_bfgs(f, x0, args, fprime, callback=callback, **opts)\n",
      "c:\\Users\\SJANO\\AppData\\Local\\Programs\\Python\\Python313\\Lib\\site-packages\\statsmodels\\base\\model.py:595: HessianInversionWarning: Inverting hessian failed, no bse or cov_params available\n",
      "  warnings.warn('Inverting hessian failed, no bse or cov_params '\n",
      "c:\\Users\\SJANO\\AppData\\Local\\Programs\\Python\\Python313\\Lib\\site-packages\\statsmodels\\base\\model.py:607: ConvergenceWarning: Maximum Likelihood optimization failed to converge. Check mle_retvals\n",
      "  warnings.warn(\"Maximum Likelihood optimization failed to \"\n",
      "c:\\Users\\SJANO\\AppData\\Local\\Programs\\Python\\Python313\\Lib\\site-packages\\statsmodels\\discrete\\discrete_model.py:3027: RuntimeWarning: overflow encountered in exp\n",
      "  eXB = np.column_stack((np.ones(len(X)), np.exp(X)))\n",
      "c:\\Users\\SJANO\\AppData\\Local\\Programs\\Python\\Python313\\Lib\\site-packages\\statsmodels\\discrete\\discrete_model.py:3028: RuntimeWarning: invalid value encountered in divide\n",
      "  return eXB/eXB.sum(1)[:,None]\n"
     ]
    },
    {
     "name": "stdout",
     "output_type": "stream",
     "text": [
      "         Current function value: nan\n",
      "         Iterations: 62\n",
      "         Function evaluations: 79\n",
      "         Gradient evaluations: 79\n",
      "Optimization terminated successfully.\n",
      "         Current function value: nan\n",
      "         Iterations 29\n"
     ]
    },
    {
     "name": "stderr",
     "output_type": "stream",
     "text": [
      "c:\\Users\\SJANO\\AppData\\Local\\Programs\\Python\\Python313\\Lib\\site-packages\\statsmodels\\discrete\\discrete_model.py:3059: RuntimeWarning: divide by zero encountered in log\n",
      "  logprob = np.log(self.cdf(np.dot(self.exog,params)))\n",
      "c:\\Users\\SJANO\\AppData\\Local\\Programs\\Python\\Python313\\Lib\\site-packages\\statsmodels\\discrete\\discrete_model.py:3060: RuntimeWarning: invalid value encountered in multiply\n",
      "  return np.sum(d * logprob)\n",
      "c:\\Users\\SJANO\\AppData\\Local\\Programs\\Python\\Python313\\Lib\\site-packages\\statsmodels\\discrete\\discrete_model.py:3027: RuntimeWarning: overflow encountered in exp\n",
      "  eXB = np.column_stack((np.ones(len(X)), np.exp(X)))\n",
      "c:\\Users\\SJANO\\AppData\\Local\\Programs\\Python\\Python313\\Lib\\site-packages\\statsmodels\\discrete\\discrete_model.py:3028: RuntimeWarning: invalid value encountered in divide\n",
      "  return eXB/eXB.sum(1)[:,None]\n"
     ]
    },
    {
     "name": "stdout",
     "output_type": "stream",
     "text": [
      "Optimization terminated successfully.\n",
      "         Current function value: 0.583107\n",
      "         Iterations: 99\n",
      "         Function evaluations: 107\n",
      "         Gradient evaluations: 107\n",
      "Optimization terminated successfully.\n",
      "         Current function value: nan\n",
      "         Iterations 8\n",
      "Optimization terminated successfully.\n",
      "         Current function value: 0.363300\n",
      "         Iterations: 34\n",
      "         Function evaluations: 41\n",
      "         Gradient evaluations: 41\n",
      "Warning: Maximum number of iterations has been exceeded.\n",
      "         Current function value: 1.251875\n",
      "         Iterations: 35\n"
     ]
    },
    {
     "name": "stderr",
     "output_type": "stream",
     "text": [
      "c:\\Users\\SJANO\\AppData\\Local\\Programs\\Python\\Python313\\Lib\\site-packages\\statsmodels\\discrete\\discrete_model.py:3059: RuntimeWarning: divide by zero encountered in log\n",
      "  logprob = np.log(self.cdf(np.dot(self.exog,params)))\n",
      "c:\\Users\\SJANO\\AppData\\Local\\Programs\\Python\\Python313\\Lib\\site-packages\\statsmodels\\discrete\\discrete_model.py:3060: RuntimeWarning: invalid value encountered in multiply\n",
      "  return np.sum(d * logprob)\n",
      "c:\\Users\\SJANO\\AppData\\Local\\Programs\\Python\\Python313\\Lib\\site-packages\\statsmodels\\base\\model.py:607: ConvergenceWarning: Maximum Likelihood optimization failed to converge. Check mle_retvals\n",
      "  warnings.warn(\"Maximum Likelihood optimization failed to \"\n",
      "c:\\Users\\SJANO\\AppData\\Local\\Programs\\Python\\Python313\\Lib\\site-packages\\statsmodels\\discrete\\discrete_model.py:3059: RuntimeWarning: divide by zero encountered in log\n",
      "  logprob = np.log(self.cdf(np.dot(self.exog,params)))\n",
      "c:\\Users\\SJANO\\AppData\\Local\\Programs\\Python\\Python313\\Lib\\site-packages\\statsmodels\\discrete\\discrete_model.py:3060: RuntimeWarning: invalid value encountered in multiply\n",
      "  return np.sum(d * logprob)\n",
      "c:\\Users\\SJANO\\AppData\\Local\\Programs\\Python\\Python313\\Lib\\site-packages\\statsmodels\\discrete\\discrete_model.py:3027: RuntimeWarning: overflow encountered in exp\n",
      "  eXB = np.column_stack((np.ones(len(X)), np.exp(X)))\n",
      "c:\\Users\\SJANO\\AppData\\Local\\Programs\\Python\\Python313\\Lib\\site-packages\\statsmodels\\discrete\\discrete_model.py:3028: RuntimeWarning: invalid value encountered in divide\n",
      "  return eXB/eXB.sum(1)[:,None]\n"
     ]
    },
    {
     "name": "stdout",
     "output_type": "stream",
     "text": [
      "Optimization terminated successfully.\n",
      "         Current function value: 0.175238\n",
      "         Iterations: 35\n",
      "         Function evaluations: 46\n",
      "         Gradient evaluations: 46\n",
      "Optimization terminated successfully.\n",
      "         Current function value: nan\n",
      "         Iterations 7\n",
      "Optimization terminated successfully.\n",
      "         Current function value: 0.158331\n",
      "         Iterations: 23\n",
      "         Function evaluations: 29\n",
      "         Gradient evaluations: 29\n",
      "Optimization terminated successfully.\n",
      "         Current function value: nan\n",
      "         Iterations 9\n"
     ]
    },
    {
     "name": "stderr",
     "output_type": "stream",
     "text": [
      "c:\\Users\\SJANO\\AppData\\Local\\Programs\\Python\\Python313\\Lib\\site-packages\\statsmodels\\discrete\\discrete_model.py:3059: RuntimeWarning: divide by zero encountered in log\n",
      "  logprob = np.log(self.cdf(np.dot(self.exog,params)))\n",
      "c:\\Users\\SJANO\\AppData\\Local\\Programs\\Python\\Python313\\Lib\\site-packages\\statsmodels\\discrete\\discrete_model.py:3060: RuntimeWarning: invalid value encountered in multiply\n",
      "  return np.sum(d * logprob)\n",
      "c:\\Users\\SJANO\\AppData\\Local\\Programs\\Python\\Python313\\Lib\\site-packages\\statsmodels\\discrete\\discrete_model.py:3027: RuntimeWarning: overflow encountered in exp\n",
      "  eXB = np.column_stack((np.ones(len(X)), np.exp(X)))\n",
      "c:\\Users\\SJANO\\AppData\\Local\\Programs\\Python\\Python313\\Lib\\site-packages\\statsmodels\\discrete\\discrete_model.py:3028: RuntimeWarning: invalid value encountered in divide\n",
      "  return eXB/eXB.sum(1)[:,None]\n"
     ]
    }
   ],
   "source": [
    "df_markets = pd.read_csv('data/test/markets.csv')\n",
    "\n",
    "\n",
    "with open('data/test/linear/results_logistic corrected distance and depth.txt', 'w') as f:\n",
    "    for ticker in df_markets['Ticker']:\n",
    "        df= pd.read_csv(f'data/test/linear/{ticker}.csv')\n",
    "        \n",
    "        #Dealing with missing values\n",
    "        df[['sum', 'max_mag', 'max_sig', 'tsunami']] = df[['sum', 'max_mag', 'max_sig', 'tsunami']].fillna(0)\n",
    "        df[['min_dist']] = df[['min_dist']].fillna(20000)\n",
    "        df[['min_depth']] = df[['min_depth']].fillna(20000)\n",
    "        df['rev_dist'] = df['min_dist'].apply(lambda x: 0 if x == 0 else 1 / x)\n",
    "        df['rev_dist_sq'] = df['rev_dist'] * df['rev_dist']\n",
    "        df['rev_depth'] = df['min_depth'].apply(lambda x: 0 if x == 0 else 1 / x)\n",
    "    \n",
    "    \n",
    "        #This part creates the regression model\n",
    "        X = sm.add_constant(df[['num', 'max_sig', 'rev_dist']])\n",
    "        y = df['effect']\n",
    "        mlogit_model = sm.MNLogit(y, X)\n",
    "        mlogit_model.fit(method='bfgs', maxiter=200)\n",
    "        result = mlogit_model.fit()\n",
    "        \n",
    "\n",
    "        #Saving it to the file\n",
    "        f.write(f\"Ticker: {ticker}\\n\")\n",
    "        f.write(result.summary().as_text())\n",
    "        f.write(\"\\n\" + \"=\"*80 + \"\\n\")"
   ]
  }
 ],
 "metadata": {
  "kernelspec": {
   "display_name": "Python 3",
   "language": "python",
   "name": "python3"
  },
  "language_info": {
   "codemirror_mode": {
    "name": "ipython",
    "version": 3
   },
   "file_extension": ".py",
   "mimetype": "text/x-python",
   "name": "python",
   "nbconvert_exporter": "python",
   "pygments_lexer": "ipython3",
   "version": "3.13.0"
  }
 },
 "nbformat": 4,
 "nbformat_minor": 2
}
