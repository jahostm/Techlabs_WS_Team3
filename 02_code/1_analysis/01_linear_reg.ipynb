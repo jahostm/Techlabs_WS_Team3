{
 "cells": [
  {
   "cell_type": "code",
   "execution_count": 1,
   "metadata": {},
   "outputs": [],
   "source": [
    "import pandas as pd\n",
    "import statsmodels.api as sm\n"
   ]
  },
  {
   "cell_type": "code",
   "execution_count": null,
   "metadata": {},
   "outputs": [],
   "source": [
    "df_markets = pd.read_csv('../../01_data/03_additional/markets_info.csv')\n",
    "with open('../../03_documentation/01_regressions/linear_reg_results.txt', 'w') as f:\n",
    "    for ticker in df_markets['ticker']:\n",
    "        df=pd.read_csv(f'../../01_data/04_analysis/{ticker}.csv')\n",
    "    \n",
    "        # Final preparations of the dataframe\n",
    "        df[['sum', 'max_mag', 'max_sig', 'min_depth', 'min_dist', 'tsunami']] = df[['sum', 'max_mag', 'max_sig', 'min_depth', 'min_dist', 'tsunami']].fillna(0)\n",
    "        df['rev_dist'] = df['min_dist'].apply(lambda x: 0 if x == 0 else 1 / x)\n",
    "        df['rev_dist_sq'] = df['rev_dist'] * df['rev_dist']\n",
    "        df['rev_depth'] = df['min_depth'].apply(lambda x: 0 if x == 0 else 1 / x)\n",
    "        \t\n",
    "        #This part does the regreesion modeling\n",
    "        X = df[['num', 'max_mag','tsunami', 'rev_dist','min_depth']]\n",
    "        y = df['change']\n",
    "        # Add a constant to the model (intercept)\n",
    "        X = sm.add_constant(X)\n",
    "\n",
    "        # Fit the regression model\n",
    "        model = sm.OLS(y, X).fit()\n",
    "        # Write the ticker name and model summary to file\n",
    "        f.write(f\"Ticker: {ticker}\\n\")\n",
    "        f.write(model.summary().as_text())\n",
    "        f.write(\"\\n\" + \"=\"*80 + \"\\n\")\n",
    "\n"
   ]
  },
  {
   "cell_type": "markdown",
   "metadata": {},
   "source": [
    "As the model assumes that depth and distance are reversely associated with change in the market, when we assign 0 to them the model will be confused. Therefore I assigned maximum, unreal numbers, to both to see if they might matter. Turns out, they don't."
   ]
  },
  {
   "cell_type": "code",
   "execution_count": null,
   "metadata": {},
   "outputs": [],
   "source": [
    "\n",
    "\n",
    "df_markets = pd.read_csv('../../01_data/03_additional/markets_info.csv')\n",
    "with open('../../03_documentation/01_regressions/results with dist and depth corrected.txt', 'w') as f:\n",
    "    for ticker in df_markets['ticker']:\n",
    "        df=pd.read_csv(f'../../01_data/04_analysis/{ticker}.csv')\n",
    "    \n",
    "        # Final preparations of the dataframe\n",
    "        df[['sum', 'max_mag', 'max_sig', 'tsunami']] = df[['sum', 'max_mag', 'max_sig', 'tsunami']].fillna(0)\n",
    "        df[['min_dist']] = df[['min_dist']].fillna(20000)\n",
    "        df[['min_depth']] = df[['min_depth']].fillna(20000)\n",
    "        df['rev_dist'] = df['min_dist'].apply(lambda x: 0 if x == 0 else 1 / x)\n",
    "        df['rev_dist_sq'] = df['rev_dist'] * df['rev_dist']\n",
    "        df['rev_depth'] = df['min_depth'].apply(lambda x: 0 if x == 0 else 1 / x)\n",
    "        \t\n",
    "        #This part does the regreesion modeling\n",
    "        X = df[['num', 'max_sig','tsunami', 'rev_dist','min_depth']]\n",
    "        y = df['change']\n",
    "        # Add a constant to the model (intercept)\n",
    "        X = sm.add_constant(X)\n",
    "\n",
    "        # Fit the regression model\n",
    "        model = sm.OLS(y, X).fit()\n",
    "        # Write the ticker name and model summary to file\n",
    "        f.write(f\"Ticker: {ticker}\\n\")\n",
    "        f.write(model.summary().as_text())\n",
    "        f.write(\"\\n\" + \"=\"*80 + \"\\n\")\n",
    "\n"
   ]
  }
 ],
 "metadata": {
  "kernelspec": {
   "display_name": "Python 3",
   "language": "python",
   "name": "python3"
  },
  "language_info": {
   "codemirror_mode": {
    "name": "ipython",
    "version": 3
   },
   "file_extension": ".py",
   "mimetype": "text/x-python",
   "name": "python",
   "nbconvert_exporter": "python",
   "pygments_lexer": "ipython3",
   "version": "3.13.0"
  }
 },
 "nbformat": 4,
 "nbformat_minor": 2
}
