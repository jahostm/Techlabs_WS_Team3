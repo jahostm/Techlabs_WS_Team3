{
 "cells": [
  {
   "cell_type": "code",
   "execution_count": 3,
   "metadata": {},
   "outputs": [],
   "source": [
    "import pandas as pd \n",
    "\n",
    "import yfinance as yf \n",
    "\n",
    "import geocoder"
   ]
  },
  {
   "cell_type": "code",
   "execution_count": 17,
   "metadata": {},
   "outputs": [],
   "source": [
    "\n",
    "\n",
    "# Read CSV File and start wirth line two as Header\n",
    "nikkei_companies = pd.read_csv(\"Users/jan/Techlabs_WS_Team3/01_data/01_raw/N225_companies.csv\", sep=\";\")\n",
    "\n",
    "\n",
    "\n"
   ]
  },
  {
   "cell_type": "code",
   "execution_count": 14,
   "metadata": {},
   "outputs": [],
   "source": [
    "# Function to return adress from yahoo finance based on the ticker number \n",
    "def get_address_and_city(ticker):\n",
    "    try:\n",
    "        company = yf.Ticker(ticker)\n",
    "        address = company.info.get('address1', 'Adresse nicht verfügbar')\n",
    "        city = company.info.get('city', 'Stadt nicht verfügbar')\n",
    "        return address, city\n",
    "    except Exception as e:\n",
    "        print(f\"Fehler beim Abrufen der Daten für {ticker}: {e}\")\n",
    "        return 'Fehler beim Abrufen', 'Fehler beim Abrufen'\n",
    "\n",
    "\n",
    "# add new columns \"Adress\" & \"City\" to dataframe \n",
    "nikkei_companies[['Address', 'City']] = nikkei_companies['Ticker'].apply(lambda ticker: pd.Series(get_address_and_city(ticker)))\n",
    "\n"
   ]
  },
  {
   "cell_type": "markdown",
   "metadata": {},
   "source": [
    "We want to display the companies on the Map: For the Visualization we need the Longitude and Latitude of the City from each Company - With Geocoder we can translate the City Longitude and Latitude data. We created an Account with Mapbox to use the services via a passkey."
   ]
  },
  {
   "cell_type": "code",
   "execution_count": 15,
   "metadata": {},
   "outputs": [],
   "source": [
    "#Function to transform city into latitude and longitude - add new columns to the dateframe (longitude and latitude)\n",
    "\n",
    "def get_lat_lon(City):\n",
    "    try:\n",
    "        g = geocoder.mapbox(City, key=\"pk.eyJ1IjoidGVjaGxhYnMzIiwiYSI6ImNtNzBib2xyczAwZHoycnBiM2hxZ24zcngifQ.AaSHNEfc-cnR4uDdEO4gsw\")  # Mapbox Geocoding\n",
    "        if g.ok:\n",
    "            return g.latlng[0], g.latlng[1]\n",
    "        return None, None\n",
    "    except Exception as e:\n",
    "        print(f\"Fehler bei {address}: {e}\")\n",
    "        return None, None\n",
    "\n",
    "# Adressen in Latitude & Longitude umwandeln\n",
    "nikkei_companies[\"latitude\"], nikkei_companies[\"longitude\"] = zip(*[get_lat_lon(addr) for addr in nikkei_companies[\"City\"]])\n",
    "\n"
   ]
  },
  {
   "cell_type": "code",
   "execution_count": 16,
   "metadata": {},
   "outputs": [
    {
     "data": {
      "text/html": [
       "<div>\n",
       "<style scoped>\n",
       "    .dataframe tbody tr th:only-of-type {\n",
       "        vertical-align: middle;\n",
       "    }\n",
       "\n",
       "    .dataframe tbody tr th {\n",
       "        vertical-align: top;\n",
       "    }\n",
       "\n",
       "    .dataframe thead th {\n",
       "        text-align: right;\n",
       "    }\n",
       "</style>\n",
       "<table border=\"1\" class=\"dataframe\">\n",
       "  <thead>\n",
       "    <tr style=\"text-align: right;\">\n",
       "      <th></th>\n",
       "      <th>Number</th>\n",
       "      <th>Ticker</th>\n",
       "      <th>Company_name</th>\n",
       "      <th>Industry</th>\n",
       "      <th>Address</th>\n",
       "      <th>City</th>\n",
       "      <th>latitude</th>\n",
       "      <th>longitude</th>\n",
       "    </tr>\n",
       "  </thead>\n",
       "  <tbody>\n",
       "    <tr>\n",
       "      <th>0</th>\n",
       "      <td>1</td>\n",
       "      <td>4151.T</td>\n",
       "      <td>KYOWA KIRIN CO., LTD.</td>\n",
       "      <td>Pharmaceuticals</td>\n",
       "      <td>Otemachi Financial City Grand Cube</td>\n",
       "      <td>Tokyo</td>\n",
       "      <td>35.688820</td>\n",
       "      <td>139.692526</td>\n",
       "    </tr>\n",
       "    <tr>\n",
       "      <th>1</th>\n",
       "      <td>2</td>\n",
       "      <td>4502.T</td>\n",
       "      <td>TAKEDA PHARMACEUTICAL CO., LTD.</td>\n",
       "      <td>Pharmaceuticals</td>\n",
       "      <td>1-1, Nihonbashi-Honcho 2-chome</td>\n",
       "      <td>Tokyo</td>\n",
       "      <td>35.688820</td>\n",
       "      <td>139.692526</td>\n",
       "    </tr>\n",
       "    <tr>\n",
       "      <th>2</th>\n",
       "      <td>3</td>\n",
       "      <td>4503.T</td>\n",
       "      <td>ASTELLAS PHARMA INC.</td>\n",
       "      <td>Pharmaceuticals</td>\n",
       "      <td>2-5-1, Nihonbashi-Honcho</td>\n",
       "      <td>Tokyo</td>\n",
       "      <td>35.688820</td>\n",
       "      <td>139.692526</td>\n",
       "    </tr>\n",
       "    <tr>\n",
       "      <th>3</th>\n",
       "      <td>4</td>\n",
       "      <td>4506.T</td>\n",
       "      <td>SUMITOMO PHARMA CO., LTD.</td>\n",
       "      <td>Pharmaceuticals</td>\n",
       "      <td>6-8, Doshomachi 2-chome</td>\n",
       "      <td>Osaka</td>\n",
       "      <td>34.683595</td>\n",
       "      <td>135.500784</td>\n",
       "    </tr>\n",
       "    <tr>\n",
       "      <th>4</th>\n",
       "      <td>5</td>\n",
       "      <td>4507.T</td>\n",
       "      <td>SHIONOGI &amp; CO., LTD.</td>\n",
       "      <td>Pharmaceuticals</td>\n",
       "      <td>1-8, Doshomachi 3-chome</td>\n",
       "      <td>Osaka</td>\n",
       "      <td>34.683595</td>\n",
       "      <td>135.500784</td>\n",
       "    </tr>\n",
       "  </tbody>\n",
       "</table>\n",
       "</div>"
      ],
      "text/plain": [
       "   Number  Ticker                     Company_name         Industry  \\\n",
       "0       1  4151.T            KYOWA KIRIN CO., LTD.  Pharmaceuticals   \n",
       "1       2  4502.T  TAKEDA PHARMACEUTICAL CO., LTD.  Pharmaceuticals   \n",
       "2       3  4503.T             ASTELLAS PHARMA INC.  Pharmaceuticals   \n",
       "3       4  4506.T        SUMITOMO PHARMA CO., LTD.  Pharmaceuticals   \n",
       "4       5  4507.T             SHIONOGI & CO., LTD.  Pharmaceuticals   \n",
       "\n",
       "                              Address   City   latitude   longitude  \n",
       "0  Otemachi Financial City Grand Cube  Tokyo  35.688820  139.692526  \n",
       "1      1-1, Nihonbashi-Honcho 2-chome  Tokyo  35.688820  139.692526  \n",
       "2            2-5-1, Nihonbashi-Honcho  Tokyo  35.688820  139.692526  \n",
       "3             6-8, Doshomachi 2-chome  Osaka  34.683595  135.500784  \n",
       "4             1-8, Doshomachi 3-chome  Osaka  34.683595  135.500784  "
      ]
     },
     "execution_count": 16,
     "metadata": {},
     "output_type": "execute_result"
    }
   ],
   "source": [
    "nikkei_companies.head()"
   ]
  }
 ],
 "metadata": {
  "kernelspec": {
   "display_name": "Python 3",
   "language": "python",
   "name": "python3"
  },
  "language_info": {
   "codemirror_mode": {
    "name": "ipython",
    "version": 3
   },
   "file_extension": ".py",
   "mimetype": "text/x-python",
   "name": "python",
   "nbconvert_exporter": "python",
   "pygments_lexer": "ipython3",
   "version": "3.13.1"
  }
 },
 "nbformat": 4,
 "nbformat_minor": 2
}
