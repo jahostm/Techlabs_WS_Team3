{
 "cells": [
  {
   "cell_type": "markdown",
   "metadata": {},
   "source": [
    "This Code will merge the companys names in the n2225 with their adresses from yahoo finance. Also it will convert the adress to longitude and latitude with geocoder."
   ]
  },
  {
   "cell_type": "code",
   "execution_count": 2,
   "metadata": {},
   "outputs": [],
   "source": [
    "import pandas as pd \n",
    "\n",
    "import yfinance as yf \n",
    "\n",
    "import geocoder"
   ]
  },
  {
   "cell_type": "code",
   "execution_count": null,
   "metadata": {},
   "outputs": [],
   "source": [
    "\n",
    "\n",
    "# Read CSV File and start wirth line two as Header\n",
    "nikkei_companies = pd.read_csv(\"Users/jan/Techlabs_WS_Team3/01_data/01_raw/N225_companies.csv\", sep=\";\")\n"
   ]
  },
  {
   "cell_type": "code",
   "execution_count": null,
   "metadata": {},
   "outputs": [],
   "source": [
    "# Function to return adress from yahoo finance based on the ticker number \n",
    "def get_address_and_city(ticker):\n",
    "    try:\n",
    "        company = yf.Ticker(ticker)\n",
    "        address = company.info.get('address1', 'adress not available')\n",
    "        city = company.info.get('city', 'city not available')\n",
    "        return address, city\n",
    "    except Exception as e:\n",
    "        print(f\"error by loading the data for {ticker}: {e}\")\n",
    "        return 'error by loading the data', 'error by loading the data '\n",
    "\n",
    "\n",
    "# add new columns \"Adress\" & \"City\" to dataframe \n",
    "nikkei_companies[['Address', 'City']] = nikkei_companies['Ticker'].apply(lambda ticker: pd.Series(get_address_and_city(ticker)))\n",
    "\n"
   ]
  },
  {
   "cell_type": "markdown",
   "metadata": {},
   "source": [
    "We want to display the companies on the Map: For the Visualization we need the Longitude and Latitude of the City from each Company - With Geocoder we can translate the City Longitude and Latitude data. We created an Account with Mapbox to use the services via a passkey."
   ]
  },
  {
   "cell_type": "code",
   "execution_count": null,
   "metadata": {},
   "outputs": [],
   "source": [
    "#Function to transform city into latitude and longitude - add new columns to the dateframe (longitude and latitude)\n",
    "\n",
    "def get_lat_lon(City):\n",
    "    try:\n",
    "        g = geocoder.mapbox(City, key=\"pk.eyJ1IjoidGVjaGxhYnMzIiwiYSI6ImNtNzBib2xyczAwZHoycnBiM2hxZ24zcngifQ.AaSHNEfc-cnR4uDdEO4gsw\")  # Mapbox Geocoding\n",
    "        if g.ok:\n",
    "            return g.latlng[0], g.latlng[1]\n",
    "        return None, None\n",
    "    except Exception as e:\n",
    "        print(f\"Fehler bei {address}: {e}\")\n",
    "        return None, None\n",
    "\n",
    "\n",
    "nikkei_companies[\"latitude\"], nikkei_companies[\"longitude\"] = zip(*[get_lat_lon(addr) for addr in nikkei_companies[\"City\"]])\n",
    "\n"
   ]
  },
  {
   "cell_type": "code",
   "execution_count": null,
   "metadata": {},
   "outputs": [],
   "source": [
    "#Save it as pickle to use it in the dashboard\n",
    "nikkei_companies.to_pickle(\"Users/jan/Techlabs_WS_Team3/02_code/0_preprocess/nikkei_companies.pkl\")"
   ]
  }
 ],
 "metadata": {
  "kernelspec": {
   "display_name": "Python 3",
   "language": "python",
   "name": "python3"
  },
  "language_info": {
   "codemirror_mode": {
    "name": "ipython",
    "version": 3
   },
   "file_extension": ".py",
   "mimetype": "text/x-python",
   "name": "python",
   "nbconvert_exporter": "python",
   "pygments_lexer": "ipython3",
   "version": "3.13.1"
  }
 },
 "nbformat": 4,
 "nbformat_minor": 2
}
