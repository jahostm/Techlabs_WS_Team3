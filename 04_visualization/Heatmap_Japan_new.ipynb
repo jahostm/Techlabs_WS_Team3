{
 "cells": [
  {
   "cell_type": "code",
   "execution_count": 3,
   "metadata": {},
   "outputs": [],
   "source": [
    "import pandas as pd\n",
    "import glob \n",
    "import plotly.express as px \n",
    "import plotly.io as pio\n"
   ]
  },
  {
   "cell_type": "code",
   "execution_count": 4,
   "metadata": {},
   "outputs": [],
   "source": [
    "disaster_stock_data= pd.read_pickle(\"Users/jan/Techlabs_WS_Team3/02_code/0_preprocess/disaster_stock_data.pkl\")"
   ]
  },
  {
   "cell_type": "code",
   "execution_count": 6,
   "metadata": {},
   "outputs": [],
   "source": [
    "#define variabels that we want to use for the Info Points on the map \n",
    "latitude = disaster_stock_data[\"latitude\"]\n",
    "longitude = disaster_stock_data[\"longitude\"]\n",
    "magnitude = disaster_stock_data[\"magnitudo\"]\n",
    "depth = disaster_stock_data[\"depth\"]\n",
    "place = disaster_stock_data [\"place\"]\n",
    "date = disaster_stock_data [\"date\"]"
   ]
  },
  {
   "cell_type": "code",
   "execution_count": 7,
   "metadata": {},
   "outputs": [],
   "source": [
    "# Open the map in the browser\n",
    "pio.renderers.default = \"browser\"  \n",
    "#Our Mapbox Access Token \n",
    "px.set_mapbox_access_token(\"pk.eyJ1IjoidGVjaGxhYnMzIiwiYSI6ImNtNzBib2xyczAwZHoycnBiM2hxZ24zcngifQ.AaSHNEfc-cnR4uDdEO4gsw\")"
   ]
  },
  {
   "cell_type": "code",
   "execution_count": null,
   "metadata": {},
   "outputs": [],
   "source": [
    "\n",
    "# Create Map with Markers for every disaster in our filtered Map for Japan & Region Japan \n",
    "fig = px.density_map(\n",
    "    disaster_stock_data, \n",
    "    lat=\"latitude\", \n",
    "    lon=\"longitude\", \n",
    "    z=\"magnitudo\",  #colour intensity after magnitude\n",
    "    hover_name=\"place\",  #first name in the markers\n",
    "    zoom=4, #level of zoom \n",
    "    radius= 10, # hight of the markers on the map \n",
    "    color_continuous_scale=px.colors.sequential.Plasma_r, # Turn Color Scheme upside down\n",
    "    map_style=\"light\"  # style of the map \n",
    ")\n",
    "\n",
    "# Karte anzeigen\n",
    "fig.show()\n"
   ]
  }
 ],
 "metadata": {
  "kernelspec": {
   "display_name": "Python 3",
   "language": "python",
   "name": "python3"
  },
  "language_info": {
   "codemirror_mode": {
    "name": "ipython",
    "version": 3
   },
   "file_extension": ".py",
   "mimetype": "text/x-python",
   "name": "python",
   "nbconvert_exporter": "python",
   "pygments_lexer": "ipython3",
   "version": "3.13.1"
  }
 },
 "nbformat": 4,
 "nbformat_minor": 2
}
