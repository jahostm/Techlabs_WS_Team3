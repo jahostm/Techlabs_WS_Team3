{
 "cells": [
  {
   "cell_type": "code",
   "execution_count": 1,
   "metadata": {},
   "outputs": [],
   "source": [
    "import pandas as pd \n",
    "\n",
    "import yfinance as yf "
   ]
  },
  {
   "cell_type": "code",
   "execution_count": 8,
   "metadata": {},
   "outputs": [
    {
     "name": "stdout",
     "output_type": "stream",
     "text": [
      "   Number Tickers                     Company_name         Industry  Date  \\\n",
      "0       1  4151.T            KYOWA KIRIN CO., LTD.  Pharmaceuticals   NaN   \n",
      "1       2  4502.T  TAKEDA PHARMACEUTICAL CO., LTD.  Pharmaceuticals   NaN   \n",
      "2       3  4503.T             ASTELLAS PHARMA INC.  Pharmaceuticals   NaN   \n",
      "3       4  4506.T        SUMITOMO PHARMA CO., LTD.  Pharmaceuticals   NaN   \n",
      "4       5  4507.T             SHIONOGI & CO., LTD.  Pharmaceuticals   NaN   \n",
      "\n",
      "   Open  Close  Volume  \n",
      "0   NaN    NaN     NaN  \n",
      "1   NaN    NaN     NaN  \n",
      "2   NaN    NaN     NaN  \n",
      "3   NaN    NaN     NaN  \n",
      "4   NaN    NaN     NaN  \n"
     ]
    }
   ],
   "source": [
    "\n",
    "\n",
    "# Read CSV File and start wirth line two as Header\n",
    "nikkei_companies = pd.read_csv(\"/Users/jan/Techlabs_Project_Data/N225_companies.csv\", sep=\";\", skiprows=1)\n",
    "\n",
    "# Set right column names \n",
    "nikkei_companies.columns = [\"Number\", \"Tickers\", \"Company_name\", \"Industry\", \"Date\", \"Open\", \"Close\", \"Volume\"]\n",
    "\n",
    "# Print first Lines to see if columns are correct\n",
    "print(nikkei_companies.head())\n"
   ]
  },
  {
   "cell_type": "code",
   "execution_count": 11,
   "metadata": {},
   "outputs": [
    {
     "name": "stdout",
     "output_type": "stream",
     "text": [
      "  Tickers                     Company_name  \\\n",
      "0  4151.T            KYOWA KIRIN CO., LTD.   \n",
      "1  4502.T  TAKEDA PHARMACEUTICAL CO., LTD.   \n",
      "2  4503.T             ASTELLAS PHARMA INC.   \n",
      "3  4506.T        SUMITOMO PHARMA CO., LTD.   \n",
      "4  4507.T             SHIONOGI & CO., LTD.   \n",
      "\n",
      "                              Address   City  \n",
      "0  Otemachi Financial City Grand Cube  Tokyo  \n",
      "1      1-1, Nihonbashi-Honcho 2-chome  Tokyo  \n",
      "2            2-5-1, Nihonbashi-Honcho  Tokyo  \n",
      "3             6-8, Doshomachi 2-chome  Osaka  \n",
      "4             1-8, Doshomachi 3-chome  Osaka  \n"
     ]
    }
   ],
   "source": [
    "# Function to return adress from yahoo finance based on the ticker number \n",
    "def get_address_and_city(ticker):\n",
    "    try:\n",
    "        # Abrufen des Unternehmens über yfinance\n",
    "        company = yf.Ticker(ticker)\n",
    "        # Adresse und Stadt extrahieren\n",
    "        address = company.info.get('address1', 'Adresse nicht verfügbar')\n",
    "        city = company.info.get('city', 'Stadt nicht verfügbar')\n",
    "        return address, city\n",
    "    except Exception as e:\n",
    "        print(f\"Fehler beim Abrufen der Daten für {ticker}: {e}\")\n",
    "        return 'Fehler beim Abrufen', 'Fehler beim Abrufen'\n",
    "\n",
    "\n",
    "# add new column to dataframe \n",
    "nikkei_companies[['Address', 'City']] = nikkei_companies['Tickers'].apply(lambda ticker: pd.Series(get_address_and_city(ticker)))\n",
    "\n",
    "# print first lines to check if new column is correct\n",
    "print(nikkei_companies[['Tickers', 'Company_name', 'Address', 'City']].head())"
   ]
  }
 ],
 "metadata": {
  "kernelspec": {
   "display_name": "Python 3",
   "language": "python",
   "name": "python3"
  },
  "language_info": {
   "codemirror_mode": {
    "name": "ipython",
    "version": 3
   },
   "file_extension": ".py",
   "mimetype": "text/x-python",
   "name": "python",
   "nbconvert_exporter": "python",
   "pygments_lexer": "ipython3",
   "version": "3.13.1"
  }
 },
 "nbformat": 4,
 "nbformat_minor": 2
}
