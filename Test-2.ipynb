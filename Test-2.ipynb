{
 "cells": [
  {
   "cell_type": "code",
   "execution_count": 19,
   "metadata": {},
   "outputs": [
    {
     "name": "stdout",
     "output_type": "stream",
     "text": [
      "           time                                 place    status  tsunami  \\\n",
      "0  631153353990     12 km NNW of Meadow Lakes, Alaska  reviewed        0   \n",
      "1  631153491210            14 km S of Volcano, Hawaii  reviewed        0   \n",
      "2  631154083450            7 km W of Cobb, California  reviewed        0   \n",
      "3  631155512130  11 km E of Mammoth Lakes, California  reviewed        0   \n",
      "4  631155824490                16km N of Fillmore, CA  reviewed        0   \n",
      "\n",
      "   significance   data_type  magnitudo        state   longitude   latitude  \\\n",
      "0            96  earthquake       2.50       Alaska -149.669200  61.730200   \n",
      "1            31  earthquake       1.41       Hawaii -155.212333  19.317667   \n",
      "2            19  earthquake       1.11   California -122.806167  38.821000   \n",
      "3            15  earthquake       0.98   California -118.846333  37.664333   \n",
      "4           134  earthquake       2.95   California -118.934000  34.546000   \n",
      "\n",
      "    depth                              date  \n",
      "0  30.100  1990-01-01 00:22:33.990000+00:00  \n",
      "1   6.585  1990-01-01 00:24:51.210000+00:00  \n",
      "2   3.220  1990-01-01 00:34:43.450000+00:00  \n",
      "3  -0.584  1990-01-01 00:58:32.130000+00:00  \n",
      "4  16.122  1990-01-01 01:03:44.490000+00:00  \n"
     ]
    }
   ],
   "source": [
    "import pandas as pd\n",
    "\n",
    "df = pd.read_csv('Eartquakes-1990-2023.csv')\n",
    "print(df.head())"
   ]
  },
  {
   "cell_type": "code",
   "execution_count": 20,
   "metadata": {},
   "outputs": [
    {
     "name": "stdout",
     "output_type": "stream",
     "text": [
      "['reviewed' 'automatic' 'AUTOMATIC' 'REVIEWED' 'MANUAL' 'manual']\n",
      "---\n",
      "[0 1]\n",
      "---\n",
      "['earthquake' 'quarry blast' 'explosion' 'other event' 'nuclear explosion'\n",
      " 'rock burst' 'ice quake' 'chemical explosion' 'sonic boom'\n",
      " 'mine collapse' 'rockslide' 'Rock Slide' 'accidental explosion'\n",
      " 'landslide' 'quarry' 'mining explosion' 'acoustic noise' 'not reported'\n",
      " 'experimental explosion' 'collapse' 'meteorite'\n",
      " 'induced or triggered event' 'volcanic eruption' 'Ice Quake'\n",
      " 'snow avalanche']\n"
     ]
    }
   ],
   "source": [
    "# distinct status, tsunami, data_type, \n",
    "distinct_status = df['status'].unique()\n",
    "print(distinct_status)\n",
    "print('---')\n",
    "\n",
    "distinct_tsunami = df['tsunami'].unique()\n",
    "print(distinct_tsunami)\n",
    "print('---')\n",
    "\n",
    "distinct_data_type = df['data_type'].unique()\n",
    "print(distinct_data_type)\n"
   ]
  },
  {
   "cell_type": "code",
   "execution_count": 21,
   "metadata": {},
   "outputs": [
    {
     "name": "stdout",
     "output_type": "stream",
     "text": [
      "   tsunami  significance   data_type  magnitudo        state   longitude  \\\n",
      "0        0            96  earthquake       2.50       Alaska -149.669200   \n",
      "1        0            31  earthquake       1.41       Hawaii -155.212333   \n",
      "2        0            19  earthquake       1.11   California -122.806167   \n",
      "3        0            15  earthquake       0.98   California -118.846333   \n",
      "4        0           134  earthquake       2.95   California -118.934000   \n",
      "\n",
      "    latitude   depth                              date  \n",
      "0  61.730200  30.100  1990-01-01 00:22:33.990000+00:00  \n",
      "1  19.317667   6.585  1990-01-01 00:24:51.210000+00:00  \n",
      "2  38.821000   3.220  1990-01-01 00:34:43.450000+00:00  \n",
      "3  37.664333  -0.584  1990-01-01 00:58:32.130000+00:00  \n",
      "4  34.546000  16.122  1990-01-01 01:03:44.490000+00:00  \n"
     ]
    }
   ],
   "source": [
    "# Remove columns\n",
    "df.drop(columns=['time', 'place', 'status'], inplace=True)\n",
    "print(df.head())"
   ]
  },
  {
   "cell_type": "code",
   "execution_count": 22,
   "metadata": {},
   "outputs": [
    {
     "name": "stdout",
     "output_type": "stream",
     "text": [
      "   tsunami  significance   data_type  magnitudo        state   longitude  \\\n",
      "0        0            96  earthquake       2.50       Alaska -149.669200   \n",
      "1        0            31  earthquake       1.41       Hawaii -155.212333   \n",
      "2        0            19  earthquake       1.11   California -122.806167   \n",
      "3        0            15  earthquake       0.98   California -118.846333   \n",
      "4        0           134  earthquake       2.95   California -118.934000   \n",
      "\n",
      "    latitude   depth        date                   time  \n",
      "0  61.730200  30.100  1990-01-01  00:22:33.990000+00:00  \n",
      "1  19.317667   6.585  1990-01-01  00:24:51.210000+00:00  \n",
      "2  38.821000   3.220  1990-01-01  00:34:43.450000+00:00  \n",
      "3  37.664333  -0.584  1990-01-01  00:58:32.130000+00:00  \n",
      "4  34.546000  16.122  1990-01-01  01:03:44.490000+00:00  \n"
     ]
    }
   ],
   "source": [
    "# Split date column into \"date\" and \"time\"\n",
    "df[['date', 'time']] = df['date'].str.split(' ', expand=True)\n",
    "print(df.head())"
   ]
  },
  {
   "cell_type": "code",
   "execution_count": 23,
   "metadata": {},
   "outputs": [
    {
     "name": "stdout",
     "output_type": "stream",
     "text": [
      "   tsunami  significance   data_type  magnitudo        state   longitude  \\\n",
      "0        0            96  earthquake       2.50       Alaska -149.669200   \n",
      "1        0            31  earthquake       1.41       Hawaii -155.212333   \n",
      "2        0            19  earthquake       1.11   California -122.806167   \n",
      "3        0            15  earthquake       0.98   California -118.846333   \n",
      "4        0           134  earthquake       2.95   California -118.934000   \n",
      "\n",
      "    latitude   depth        date  \n",
      "0  61.730200  30.100  1990-01-01  \n",
      "1  19.317667   6.585  1990-01-01  \n",
      "2  38.821000   3.220  1990-01-01  \n",
      "3  37.664333  -0.584  1990-01-01  \n",
      "4  34.546000  16.122  1990-01-01  \n"
     ]
    }
   ],
   "source": [
    "# Drop column time\n",
    "df.drop(columns=['time'], inplace=True)\n",
    "print(df.head())"
   ]
  },
  {
   "cell_type": "code",
   "execution_count": 24,
   "metadata": {},
   "outputs": [
    {
     "name": "stdout",
     "output_type": "stream",
     "text": [
      "         tsunami  significance   data_type  magnitudo        state  \\\n",
      "0              0            96  earthquake       2.50       Alaska   \n",
      "1              0            31  earthquake       1.41       Hawaii   \n",
      "2              0            19  earthquake       1.11   California   \n",
      "3              0            15  earthquake       0.98   California   \n",
      "4              0           134  earthquake       2.95   California   \n",
      "...          ...           ...         ...        ...          ...   \n",
      "3445746        0           326  earthquake       4.60        Japan   \n",
      "3445747        0            44  earthquake       1.70       Alaska   \n",
      "3445748        0            90  earthquake       2.42         B.C.   \n",
      "3445749        0            16  earthquake       1.03   California   \n",
      "3445750        0            12  earthquake       0.90       Alaska   \n",
      "\n",
      "          longitude   latitude    depth        date  \n",
      "0       -149.669200  61.730200   30.100  1990-01-01  \n",
      "1       -155.212333  19.317667    6.585  1990-01-01  \n",
      "2       -122.806167  38.821000    3.220  1990-01-01  \n",
      "3       -118.846333  37.664333   -0.584  1990-01-01  \n",
      "4       -118.934000  34.546000   16.122  1990-01-01  \n",
      "...             ...        ...      ...         ...  \n",
      "3445746  139.940200  36.350700   83.039  2023-07-29  \n",
      "3445747 -153.729900  57.790100   24.400  2023-07-29  \n",
      "3445748 -115.296833  32.233167    1.770  2023-07-29  \n",
      "3445749 -122.800499  38.827499    1.720  2023-07-29  \n",
      "3445750 -155.051000  57.564800  250.000  2023-07-29  \n",
      "\n",
      "[3361846 rows x 9 columns]\n"
     ]
    }
   ],
   "source": [
    "# Only Earthquake data\n",
    "df_earthquake = df[df['data_type'] == 'earthquake']\n",
    "print(df_earthquake)"
   ]
  },
  {
   "cell_type": "code",
   "execution_count": 25,
   "metadata": {},
   "outputs": [
    {
     "name": "stdout",
     "output_type": "stream",
     "text": [
      "         tsunami  significance   data_type  magnitudo                 state  \\\n",
      "1437789        0            15  earthquake       1.00                Alaska   \n",
      "1437790        0           211  earthquake       3.70   U.S. Virgin Islands   \n",
      "1437791        0           259  earthquake       4.10                Turkey   \n",
      "1437792        0            15  earthquake       1.00                Alaska   \n",
      "1437793        0           234  earthquake       3.90           Philippines   \n",
      "...          ...           ...         ...        ...                   ...   \n",
      "3445746        0           326  earthquake       4.60                 Japan   \n",
      "3445747        0            44  earthquake       1.70                Alaska   \n",
      "3445748        0            90  earthquake       2.42                  B.C.   \n",
      "3445749        0            16  earthquake       1.03            California   \n",
      "3445750        0            12  earthquake       0.90                Alaska   \n",
      "\n",
      "          longitude   latitude    depth        date  \n",
      "1437789 -151.155900  63.515700    7.000  2008-01-01  \n",
      "1437790  -64.344000  19.099000   58.900  2008-01-01  \n",
      "1437791   35.743000  37.569000    5.000  2008-01-01  \n",
      "1437792 -151.987100  63.265400    2.500  2008-01-01  \n",
      "1437793  124.048000   6.484000  571.000  2008-01-01  \n",
      "...             ...        ...      ...         ...  \n",
      "3445746  139.940200  36.350700   83.039  2023-07-29  \n",
      "3445747 -153.729900  57.790100   24.400  2023-07-29  \n",
      "3445748 -115.296833  32.233167    1.770  2023-07-29  \n",
      "3445749 -122.800499  38.827499    1.720  2023-07-29  \n",
      "3445750 -155.051000  57.564800  250.000  2023-07-29  \n",
      "\n",
      "[1960692 rows x 9 columns]\n"
     ]
    }
   ],
   "source": [
    "# Take the Earthquake data from 2008 onward because the Global Market Data has data from 2008 to 2023\n",
    "df_earthquake = df_earthquake[df_earthquake['date'] >= '2008-01-01']\n",
    "print(df_earthquake)"
   ]
  },
  {
   "cell_type": "code",
   "execution_count": 26,
   "metadata": {},
   "outputs": [
    {
     "name": "stdout",
     "output_type": "stream",
     "text": [
      "         tsunami  significance   data_type  magnitudo                 state  \\\n",
      "1983658        1           993  earthquake        8.0       Solomon Islands   \n",
      "1984525        1           691  earthquake        6.7       Solomon Islands   \n",
      "1984795        1           711  earthquake        6.8       Solomon Islands   \n",
      "1984881        1           780  earthquake        7.1       Solomon Islands   \n",
      "1985228        1           904  earthquake        6.9              Colombia   \n",
      "...          ...           ...         ...        ...                   ...   \n",
      "3438758        1           235  earthquake        3.9                Alaska   \n",
      "3439082        1           920  earthquake        6.6   Antigua and Barbuda   \n",
      "3441336        1           896  earthquake        7.2                Alaska   \n",
      "3442091        1           370  earthquake        4.9                Alaska   \n",
      "3444988        1           632  earthquake        6.4               Vanuatu   \n",
      "\n",
      "         longitude  latitude    depth        date  \n",
      "1983658   165.1140  -10.7990   24.000  2013-02-06  \n",
      "1984525   165.6550  -10.9970   11.000  2013-02-07  \n",
      "1984795   165.9690  -10.8380   12.000  2013-02-08  \n",
      "1984881   166.0180  -10.9280   21.000  2013-02-08  \n",
      "1985228   -77.3930    1.1350  145.000  2013-02-09  \n",
      "...            ...       ...      ...         ...  \n",
      "3438758  -153.0393   60.0313  127.600  2023-07-09  \n",
      "3439082   -61.0820   20.0391   14.000  2023-07-10  \n",
      "3441336  -160.7604   54.4596   32.571  2023-07-16  \n",
      "3442091  -163.5466   53.9006   48.498  2023-07-17  \n",
      "3444988   167.9249  -14.7565   10.000  2023-07-26  \n",
      "\n",
      "[1527 rows x 9 columns]\n"
     ]
    }
   ],
   "source": [
    "tsunami_rows = df_earthquake[df_earthquake['tsunami'] != 0]\n",
    "print(tsunami_rows)"
   ]
  },
  {
   "cell_type": "code",
   "execution_count": 27,
   "metadata": {},
   "outputs": [
    {
     "name": "stdout",
     "output_type": "stream",
     "text": [
      "         tsunami  significance   data_type  magnitude                 state  \\\n",
      "1437789        0            15  earthquake       1.00                Alaska   \n",
      "1437790        0           211  earthquake       3.70   U.S. Virgin Islands   \n",
      "1437791        0           259  earthquake       4.10                Turkey   \n",
      "1437792        0            15  earthquake       1.00                Alaska   \n",
      "1437793        0           234  earthquake       3.90           Philippines   \n",
      "...          ...           ...         ...        ...                   ...   \n",
      "3445746        0           326  earthquake       4.60                 Japan   \n",
      "3445747        0            44  earthquake       1.70                Alaska   \n",
      "3445748        0            90  earthquake       2.42                  B.C.   \n",
      "3445749        0            16  earthquake       1.03            California   \n",
      "3445750        0            12  earthquake       0.90                Alaska   \n",
      "\n",
      "          longitude   latitude    depth        date  \n",
      "1437789 -151.155900  63.515700    7.000  2008-01-01  \n",
      "1437790  -64.344000  19.099000   58.900  2008-01-01  \n",
      "1437791   35.743000  37.569000    5.000  2008-01-01  \n",
      "1437792 -151.987100  63.265400    2.500  2008-01-01  \n",
      "1437793  124.048000   6.484000  571.000  2008-01-01  \n",
      "...             ...        ...      ...         ...  \n",
      "3445746  139.940200  36.350700   83.039  2023-07-29  \n",
      "3445747 -153.729900  57.790100   24.400  2023-07-29  \n",
      "3445748 -115.296833  32.233167    1.770  2023-07-29  \n",
      "3445749 -122.800499  38.827499    1.720  2023-07-29  \n",
      "3445750 -155.051000  57.564800  250.000  2023-07-29  \n",
      "\n",
      "[1960692 rows x 9 columns]\n"
     ]
    }
   ],
   "source": [
    "# correct misspelling 'magnitudo' to 'magnitude'\n",
    "df_earthquake.rename(columns={'magnitudo': 'magnitude'}, inplace=True)\n",
    "print(df_earthquake)"
   ]
  },
  {
   "cell_type": "code",
   "execution_count": 28,
   "metadata": {},
   "outputs": [
    {
     "name": "stdout",
     "output_type": "stream",
     "text": [
      "tsunami         0\n",
      "significance    0\n",
      "data_type       0\n",
      "magnitude       0\n",
      "state           0\n",
      "longitude       0\n",
      "latitude        0\n",
      "depth           0\n",
      "date            0\n",
      "dtype: int64\n"
     ]
    }
   ],
   "source": [
    "# Check for missing values\n",
    "print(df_earthquake.isnull().sum())"
   ]
  },
  {
   "cell_type": "code",
   "execution_count": 29,
   "metadata": {},
   "outputs": [
    {
     "name": "stdout",
     "output_type": "stream",
     "text": [
      "1437789    1.00\n",
      "1437790    3.70\n",
      "1437791    4.10\n",
      "1437792    1.00\n",
      "1437793    3.90\n",
      "           ... \n",
      "3445746    4.60\n",
      "3445747    1.70\n",
      "3445748    2.42\n",
      "3445749    1.03\n",
      "3445750    0.90\n",
      "Name: magnitude, Length: 1960692, dtype: float64\n",
      "1437789      7.000\n",
      "1437790     58.900\n",
      "1437791      5.000\n",
      "1437792      2.500\n",
      "1437793    571.000\n",
      "            ...   \n",
      "3445746     83.039\n",
      "3445747     24.400\n",
      "3445748      1.770\n",
      "3445749      1.720\n",
      "3445750    250.000\n",
      "Name: depth, Length: 1960692, dtype: float64\n",
      "1437789    2008-01-01\n",
      "1437790    2008-01-01\n",
      "1437791    2008-01-01\n",
      "1437792    2008-01-01\n",
      "1437793    2008-01-01\n",
      "              ...    \n",
      "3445746    2023-07-29\n",
      "3445747    2023-07-29\n",
      "3445748    2023-07-29\n",
      "3445749    2023-07-29\n",
      "3445750    2023-07-29\n",
      "Name: date, Length: 1960692, dtype: object\n"
     ]
    }
   ],
   "source": [
    "# check datatype\n",
    "print(df_earthquake['magnitude'])\n",
    "print(df_earthquake['depth'])\n",
    "print(df_earthquake['date'])"
   ]
  },
  {
   "cell_type": "code",
   "execution_count": 30,
   "metadata": {},
   "outputs": [],
   "source": [
    "# Distribution of Earthquake Magnitudes\n",
    "# visualize the distribution of magnitudes to see how they are spread\n",
    "#import matplotlib.pyplot as plt\n",
    "#df_earthquake['magnitude'].hist(bins=50)\n",
    "#plt.title('Distribution of Earthquake Magnitudes')\n",
    "#plt.xlabel('Magnitude')\n",
    "#plt.ylabel('Frequency')\n",
    "#plt.show()\n"
   ]
  },
  {
   "cell_type": "code",
   "execution_count": 31,
   "metadata": {},
   "outputs": [],
   "source": [
    "# Explore Earthquake Locations\n",
    "# Investigate the locations (state, place) where earthquakes occur most frequently. \n",
    "# Create a bar plot of the number of earthquakes by state or country.\n",
    "#state_counts = df['state'].value_counts().head(10)\n",
    "#state_counts.plot(kind='bar')\n",
    "#plt.title('Top 10 Earthquake States')\n",
    "#plt.xlabel('State')\n",
    "#plt.ylabel('Number of Earthquakes')\n",
    "#plt.show()"
   ]
  },
  {
   "cell_type": "code",
   "execution_count": 32,
   "metadata": {},
   "outputs": [],
   "source": [
    "# Convert 'date' column to datetime format\n",
    "#df_earthquake['date'] = pd.to_datetime(df_earthquake['date'], errors='coerce')"
   ]
  },
  {
   "cell_type": "code",
   "execution_count": 33,
   "metadata": {},
   "outputs": [],
   "source": [
    "# Time Series Analysis (Trends over time)\n",
    "# Since earthquakes are recorded over time, analyze if the frequency of earthquakes is increasing or decreasing.\n",
    "#df_earthquake['year'] = df_earthquake['date'].dt.year\n",
    "#earthquakes_per_year = df_earthquake.groupby('year').size()\n",
    "#earthquakes_per_year.plot(kind='line')\n",
    "#plt.title('Number of Earthquakes per Year')\n",
    "#plt.xlabel('Year')\n",
    "#plt.ylabel('Number of Earthquakes')\n",
    "#plt.show()\n"
   ]
  },
  {
   "cell_type": "code",
   "execution_count": 34,
   "metadata": {},
   "outputs": [
    {
     "name": "stdout",
     "output_type": "stream",
     "text": [
      "              magnitude     depth  significance\n",
      "magnitude      1.000000  0.360022      0.933982\n",
      "depth          0.360022  1.000000      0.347790\n",
      "significance   0.933982  0.347790      1.000000\n"
     ]
    }
   ],
   "source": [
    "# Correlation Analysis\n",
    "# Look for relationships between variables such as magnitude, depth, and significance.\n",
    "correlation_matrix = df_earthquake[['magnitude', 'depth', 'significance']].corr()\n",
    "print(correlation_matrix)"
   ]
  },
  {
   "cell_type": "code",
   "execution_count": 35,
   "metadata": {},
   "outputs": [
    {
     "name": "stdout",
     "output_type": "stream",
     "text": [
      "         tsunami  significance   data_type  magnitude              state  \\\n",
      "1437999        0           613  earthquake        6.3   Papua New Guinea   \n",
      "1438968        0           671  earthquake        6.6             Canada   \n",
      "1438979        0           630  earthquake        6.4             Canada   \n",
      "1439178        0           920  earthquake        6.2             Greece   \n",
      "1439977        0           630  earthquake        6.4     western Xizang   \n",
      "...          ...           ...         ...        ...                ...   \n",
      "3440597        0           637  earthquake        6.3             Mexico   \n",
      "3441336        1           896  earthquake        7.2             Alaska   \n",
      "3441774        0           900  earthquake        6.6          Argentina   \n",
      "3442480        0           784  earthquake        6.5        El Salvador   \n",
      "3444988        1           632  earthquake        6.4            Vanuatu   \n",
      "\n",
      "         longitude  latitude    depth        date  \n",
      "1437999   146.8840   -5.8780   34.000  2008-01-01  \n",
      "1438968  -130.7460   51.2540   15.000  2008-01-05  \n",
      "1438979  -130.5420   51.1630   10.000  2008-01-05  \n",
      "1439178    22.6930   37.2160   75.000  2008-01-06  \n",
      "1439977    85.1660   32.2880   10.000  2008-01-09  \n",
      "...            ...       ...      ...         ...  \n",
      "3440597   -93.8771   15.0337   35.000  2023-07-14  \n",
      "3441336  -160.7604   54.4596   32.571  2023-07-16  \n",
      "3441774   -70.4688  -38.1951  186.000  2023-07-17  \n",
      "3442480   -88.1265   12.8140   69.727  2023-07-19  \n",
      "3444988   167.9249  -14.7565   10.000  2023-07-26  \n",
      "\n",
      "[1728 rows x 9 columns]\n"
     ]
    }
   ],
   "source": [
    "# Filter earthquakes data with 'magnitude' > 6.0\n",
    "df_major_earthquakes = df_earthquake[df_earthquake['magnitude'] > 6.0]\n",
    "print(df_major_earthquakes)"
   ]
  },
  {
   "cell_type": "code",
   "execution_count": null,
   "metadata": {},
   "outputs": [],
   "source": []
  }
 ],
 "metadata": {
  "kernelspec": {
   "display_name": "Python 3",
   "language": "python",
   "name": "python3"
  },
  "language_info": {
   "codemirror_mode": {
    "name": "ipython",
    "version": 3
   },
   "file_extension": ".py",
   "mimetype": "text/x-python",
   "name": "python",
   "nbconvert_exporter": "python",
   "pygments_lexer": "ipython3",
   "version": "3.12.4"
  }
 },
 "nbformat": 4,
 "nbformat_minor": 2
}
