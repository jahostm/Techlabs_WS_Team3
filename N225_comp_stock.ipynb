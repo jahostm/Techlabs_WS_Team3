{
 "cells": [
  {
   "cell_type": "markdown",
   "metadata": {},
   "source": [
    "I use a Python library call yfinance (Yahoo Finance) to retrieve stock data for 225 Companies in Japan Stock Market (N225) \n",
    "\n",
    "by installing yfinance in Terminal (pip install yfinane).\n",
    "\n",
    "They are saved separately in 225 csv files.\n",
    "\n",
    "Below are the codes to retrieve those files. "
   ]
  },
  {
   "cell_type": "code",
   "execution_count": 34,
   "metadata": {},
   "outputs": [
    {
     "name": "stderr",
     "output_type": "stream",
     "text": [
      "[*********************100%***********************]  1 of 1 completed\n",
      "\n",
      "1 Failed download:\n",
      "['4151.T']: YFRateLimitError('Too Many Requests. Rate limited. Try after a while.')\n"
     ]
    },
    {
     "name": "stdout",
     "output_type": "stream",
     "text": [
      "Empty DataFrame\n",
      "Columns: [(Open, 4151.T), (Close, 4151.T), (Volume, 4151.T), (Ticker, )]\n",
      "Index: []\n",
      "---\n",
      "Empty DataFrame\n",
      "Columns: [(Open, 4151.T), (Close, 4151.T), (Volume, 4151.T), (Ticker, )]\n",
      "Index: []\n"
     ]
    }
   ],
   "source": [
    "import yfinance as yf\n",
    "\n",
    "# Define the ticker and date range\n",
    "ticker = \"4151.T\"\n",
    "start_date = \"1990-01-01\"\n",
    "end_date = \"2025-12-31\"  # Up to date data\n",
    "\n",
    "# Fetch historical data\n",
    "data = yf.download(ticker, start=start_date, end=end_date)\n",
    "\n",
    "# Keep only the required columns (Date, Open, Close, Volume)\n",
    "data = data[[\"Open\", \"Close\", \"Volume\"]]\n",
    "\n",
    "# Add the Ticker column\n",
    "data[\"Ticker\"] = ticker\n",
    "\n",
    "# Save the data to a CSV file\n",
    "data.to_csv(\"4151.T_historical_data.csv\")\n",
    "\n",
    "# Display the first few rows\n",
    "print(data.head())\n",
    "print('---')\n",
    "print(data)"
   ]
  },
  {
   "cell_type": "code",
   "execution_count": 35,
   "metadata": {},
   "outputs": [
    {
     "name": "stderr",
     "output_type": "stream",
     "text": [
      "[*********************100%***********************]  1 of 1 completed\n",
      "\n",
      "1 Failed download:\n",
      "['4502.T']: YFRateLimitError('Too Many Requests. Rate limited. Try after a while.')\n"
     ]
    },
    {
     "name": "stdout",
     "output_type": "stream",
     "text": [
      "Saved data for 4502.T to 4502.T_historical_data.csv\n"
     ]
    },
    {
     "name": "stderr",
     "output_type": "stream",
     "text": [
      "[*********************100%***********************]  1 of 1 completed\n",
      "\n",
      "1 Failed download:\n",
      "['4503.T']: YFRateLimitError('Too Many Requests. Rate limited. Try after a while.')\n"
     ]
    },
    {
     "name": "stdout",
     "output_type": "stream",
     "text": [
      "Saved data for 4503.T to 4503.T_historical_data.csv\n"
     ]
    },
    {
     "name": "stderr",
     "output_type": "stream",
     "text": [
      "[*********************100%***********************]  1 of 1 completed\n",
      "\n",
      "1 Failed download:\n",
      "['4506.T']: YFRateLimitError('Too Many Requests. Rate limited. Try after a while.')\n"
     ]
    },
    {
     "name": "stdout",
     "output_type": "stream",
     "text": [
      "Saved data for 4506.T to 4506.T_historical_data.csv\n"
     ]
    },
    {
     "name": "stderr",
     "output_type": "stream",
     "text": [
      "[*********************100%***********************]  1 of 1 completed\n",
      "\n",
      "1 Failed download:\n",
      "['4507.T']: YFRateLimitError('Too Many Requests. Rate limited. Try after a while.')\n"
     ]
    },
    {
     "name": "stdout",
     "output_type": "stream",
     "text": [
      "Saved data for 4507.T to 4507.T_historical_data.csv\n"
     ]
    },
    {
     "name": "stderr",
     "output_type": "stream",
     "text": [
      "[*********************100%***********************]  1 of 1 completed\n",
      "\n",
      "1 Failed download:\n",
      "['4519.T']: YFRateLimitError('Too Many Requests. Rate limited. Try after a while.')\n"
     ]
    },
    {
     "name": "stdout",
     "output_type": "stream",
     "text": [
      "Saved data for 4519.T to 4519.T_historical_data.csv\n"
     ]
    },
    {
     "name": "stderr",
     "output_type": "stream",
     "text": [
      "[*********************100%***********************]  1 of 1 completed\n",
      "\n",
      "1 Failed download:\n",
      "['4523.T']: YFRateLimitError('Too Many Requests. Rate limited. Try after a while.')\n"
     ]
    },
    {
     "name": "stdout",
     "output_type": "stream",
     "text": [
      "Saved data for 4523.T to 4523.T_historical_data.csv\n"
     ]
    },
    {
     "name": "stderr",
     "output_type": "stream",
     "text": [
      "[*********************100%***********************]  1 of 1 completed\n",
      "\n",
      "1 Failed download:\n",
      "['4568.T']: YFRateLimitError('Too Many Requests. Rate limited. Try after a while.')\n"
     ]
    },
    {
     "name": "stdout",
     "output_type": "stream",
     "text": [
      "Saved data for 4568.T to 4568.T_historical_data.csv\n"
     ]
    },
    {
     "name": "stderr",
     "output_type": "stream",
     "text": [
      "[*********************100%***********************]  1 of 1 completed\n",
      "\n",
      "1 Failed download:\n",
      "['4578.T']: YFRateLimitError('Too Many Requests. Rate limited. Try after a while.')\n"
     ]
    },
    {
     "name": "stdout",
     "output_type": "stream",
     "text": [
      "Saved data for 4578.T to 4578.T_historical_data.csv\n"
     ]
    },
    {
     "name": "stderr",
     "output_type": "stream",
     "text": [
      "[*********************100%***********************]  1 of 1 completed\n",
      "\n",
      "1 Failed download:\n",
      "['6479.T']: YFRateLimitError('Too Many Requests. Rate limited. Try after a while.')\n"
     ]
    },
    {
     "name": "stdout",
     "output_type": "stream",
     "text": [
      "Saved data for 6479.T to 6479.T_historical_data.csv\n"
     ]
    },
    {
     "name": "stderr",
     "output_type": "stream",
     "text": [
      "[*********************100%***********************]  1 of 1 completed\n",
      "\n",
      "1 Failed download:\n",
      "['6501.T']: YFRateLimitError('Too Many Requests. Rate limited. Try after a while.')\n"
     ]
    },
    {
     "name": "stdout",
     "output_type": "stream",
     "text": [
      "Saved data for 6501.T to 6501.T_historical_data.csv\n"
     ]
    },
    {
     "name": "stderr",
     "output_type": "stream",
     "text": [
      "[*********************100%***********************]  1 of 1 completed\n",
      "\n",
      "1 Failed download:\n",
      "['6503.T']: YFRateLimitError('Too Many Requests. Rate limited. Try after a while.')\n"
     ]
    },
    {
     "name": "stdout",
     "output_type": "stream",
     "text": [
      "Saved data for 6503.T to 6503.T_historical_data.csv\n"
     ]
    },
    {
     "name": "stderr",
     "output_type": "stream",
     "text": [
      "[*********************100%***********************]  1 of 1 completed\n",
      "\n",
      "1 Failed download:\n",
      "['6504.T']: YFRateLimitError('Too Many Requests. Rate limited. Try after a while.')\n"
     ]
    },
    {
     "name": "stdout",
     "output_type": "stream",
     "text": [
      "Saved data for 6504.T to 6504.T_historical_data.csv\n"
     ]
    },
    {
     "name": "stderr",
     "output_type": "stream",
     "text": [
      "[*********************100%***********************]  1 of 1 completed\n",
      "\n",
      "1 Failed download:\n",
      "['6506.T']: YFRateLimitError('Too Many Requests. Rate limited. Try after a while.')\n"
     ]
    },
    {
     "name": "stdout",
     "output_type": "stream",
     "text": [
      "Saved data for 6506.T to 6506.T_historical_data.csv\n"
     ]
    },
    {
     "name": "stderr",
     "output_type": "stream",
     "text": [
      "[*********************100%***********************]  1 of 1 completed\n",
      "\n",
      "1 Failed download:\n",
      "['6526.T']: YFRateLimitError('Too Many Requests. Rate limited. Try after a while.')\n"
     ]
    },
    {
     "name": "stdout",
     "output_type": "stream",
     "text": [
      "Saved data for 6526.T to 6526.T_historical_data.csv\n"
     ]
    },
    {
     "name": "stderr",
     "output_type": "stream",
     "text": [
      "[*********************100%***********************]  1 of 1 completed\n",
      "\n",
      "1 Failed download:\n",
      "['6594.T']: YFRateLimitError('Too Many Requests. Rate limited. Try after a while.')\n"
     ]
    },
    {
     "name": "stdout",
     "output_type": "stream",
     "text": [
      "Saved data for 6594.T to 6594.T_historical_data.csv\n"
     ]
    },
    {
     "name": "stderr",
     "output_type": "stream",
     "text": [
      "[*********************100%***********************]  1 of 1 completed\n",
      "\n",
      "1 Failed download:\n",
      "['6645.T']: YFRateLimitError('Too Many Requests. Rate limited. Try after a while.')\n"
     ]
    },
    {
     "name": "stdout",
     "output_type": "stream",
     "text": [
      "Saved data for 6645.T to 6645.T_historical_data.csv\n"
     ]
    },
    {
     "name": "stderr",
     "output_type": "stream",
     "text": [
      "[*********************100%***********************]  1 of 1 completed\n",
      "\n",
      "1 Failed download:\n",
      "['6674.T']: YFRateLimitError('Too Many Requests. Rate limited. Try after a while.')\n"
     ]
    },
    {
     "name": "stdout",
     "output_type": "stream",
     "text": [
      "Saved data for 6674.T to 6674.T_historical_data.csv\n"
     ]
    },
    {
     "name": "stderr",
     "output_type": "stream",
     "text": [
      "[*********************100%***********************]  1 of 1 completed\n",
      "\n",
      "1 Failed download:\n",
      "['6701.T']: YFRateLimitError('Too Many Requests. Rate limited. Try after a while.')\n"
     ]
    },
    {
     "name": "stdout",
     "output_type": "stream",
     "text": [
      "Saved data for 6701.T to 6701.T_historical_data.csv\n"
     ]
    },
    {
     "ename": "KeyboardInterrupt",
     "evalue": "",
     "output_type": "error",
     "traceback": [
      "\u001b[1;31m---------------------------------------------------------------------------\u001b[0m",
      "\u001b[1;31mKeyboardInterrupt\u001b[0m                         Traceback (most recent call last)",
      "Cell \u001b[1;32mIn[35], line 51\u001b[0m\n\u001b[0;32m     48\u001b[0m     \u001b[38;5;28mprint\u001b[39m(\u001b[38;5;124mf\u001b[39m\u001b[38;5;124m\"\u001b[39m\u001b[38;5;124mFailed to fetch data for \u001b[39m\u001b[38;5;132;01m{\u001b[39;00mticker\u001b[38;5;132;01m}\u001b[39;00m\u001b[38;5;124m: \u001b[39m\u001b[38;5;132;01m{\u001b[39;00me\u001b[38;5;132;01m}\u001b[39;00m\u001b[38;5;124m\"\u001b[39m)\n\u001b[0;32m     50\u001b[0m \u001b[38;5;66;03m# Add a delay to avoid hitting rate limits\u001b[39;00m\n\u001b[1;32m---> 51\u001b[0m \u001b[43mtime\u001b[49m\u001b[38;5;241;43m.\u001b[39;49m\u001b[43msleep\u001b[49m\u001b[43m(\u001b[49m\u001b[38;5;241;43m1\u001b[39;49m\u001b[43m)\u001b[49m  \u001b[38;5;66;03m# 1-second delay between requests\u001b[39;00m\n",
      "\u001b[1;31mKeyboardInterrupt\u001b[0m: "
     ]
    }
   ],
   "source": [
    "import yfinance as yf\n",
    "import pandas as pd\n",
    "import time\n",
    "\n",
    "# List of tickers\n",
    "tickers = [\n",
    "    \"4502.T\", \"4503.T\", \"4506.T\", \"4507.T\", \"4519.T\", \"4523.T\", \"4568.T\", \"4578.T\", \"6479.T\", \"6501.T\", \"6503.T\", \"6504.T\", \"6506.T\", \"6526.T\", \"6594.T\", \"6645.T\", \"6674.T\", \"6701.T\", \n",
    "    \"6702.T\", \"6723.T\", \"6724.T\", \"6752.T\", \"6753.T\", \"6758.T\", \"6762.T\", \"6770.T\", \"6841.T\", \"6857.T\", \"6861.T\", \"6902.T\", \"6920.T\", \"6952.T\", \"6954.T\", \"6971.T\", \"6976.T\", \"6981.T\",\n",
    "    \"7735.T\", \"7751.T\", \"7752.T\", \"8035.T\", \"7201.T\", \"7202.T\", \"7203.T\", \"7205.T\", \"7211.T\", \"7261.T\", \"7267.T\", \"7269.T\", \"7270.T\", \"7272.T\", \"4543.T\", \"4902.T\", \"6146.T\", \"7731.T\", \n",
    "    \"7733.T\", \"7741.T\", \"7762.T\", \"9432.T\", \"9433.T\", \"9434.T\", \"9613.T\", \"9984.T\", \"5831.T\", \"7186.T\", \"8304.T\", \"8306.T\", \"8308.T\", \"8309.T\", \"8316.T\", \"8331.T\", \"8354.T\", \"8411.T\", \n",
    "    \"8253.T\", \"8591.T\", \"8697.T\", \"8601.T\", \"8604.T\", \"8630.T\", \"8725.T\", \"8750.T\", \"8766.T\", \"8795.T\", \"1332.T\", \"2002.T\", \"2269.T\", \"2282.T\", \"2501.T\", \"2502.T\", \"2503.T\", \"2801.T\",\n",
    "    \"2802.T\", \"2871.T\", \"2914.T\", \"3086.T\", \"3092.T\", \"3099.T\", \"3382.T\", \"7453.T\",\"8233.T\",\"8252.T\",\"8267.T\",\"9843.T\",\"9983.T\",\"2413.T\",\"2432.T\",\"3659.T\",\"4307.T\",\"4324.T\",\"4385.T\",\n",
    "    \"4661.T\",\"4689.T\",\"4704.T\",\"4751.T\",\"4755.T\",\"6098.T\",\"6178.T\",\"7974.T\",\"9602.T\",\"9735.T\",\"9766.T\",\"1605.T\",\"3401.T\",\"3402.T\",\n",
    "    \"3861.T\",\"3405.T\",\"3407.T\",\"4004.T\",\"4005.T\",\"4021.T\",\"4042.T\",\"4043.T\",\"4061.T\",\"4063.T\",\n",
    "    \"4183.T\",\"4188.T\",\"4208.T\",\"4452.T\",\"4901.T\",\"4911.T\",\"6988.T\",\"5019.T\",\"5020.T\",\"5101.T\",\n",
    "    \"5108.T\",\"5201.T\",\"5214.T\",\"5233.T\",\"5301.T\",\"5332.T\",\"5333.T\",\"5401.T\",\"5406.T\",\"5411.T\",\n",
    "    \"3436.T\",\"5706.T\",\"5711.T\",\"5713.T\",\"5714.T\",\"5801.T\",\"5802.T\",\"5803.T\",\"2768.T\",\"8001.T\",\n",
    "    \"8002.T\",\"8015.T\",\"8031.T\",\"8053.T\",\"8058.T\",\"1721.T\",\"1801.T\",\"1802.T\",\"1803.T\",\"1808.T\",\n",
    "    \"1812.T\",\"1925.T\",\"1928.T\",\"1963.T\",\"5631.T\",\"6103.T\",\"6113.T\",\"6273.T\",\"6301.T\",\"6302.T\",\n",
    "    \"6305.T\",\"6326.T\",\"6361.T\",\"6367.T\",\"6471.T\",\"6472.T\",\"6473.T\",\"7004.T\",\"7011.T\",\"7013.T\",\n",
    "    \"7012.T\",\"7832.T\",\"7911.T\",\"7912.T\",\"7951.T\",\"3289.T\",\"8801.T\",\"8802.T\",\"8804.T\",\"8830.T\",\n",
    "    \"9001.T\",\"9005.T\",\"9007.T\",\"9008.T\",\"9009.T\",\"9020.T\",\"9021.T\",\"9022.T\",\"9064.T\",\"9147.T\",\n",
    "    \"9101.T\",\"9104.T\",\"9107.T\",\"9201.T\",\"9202.T\",\"9301.T\",\"9501.T\",\"9502.T\",\"9503.T\",\"9531.T\",\"9532.T\"   # Add all 224 tickers here\n",
    "]\n",
    "\n",
    "# Define the date range\n",
    "start_date = \"1990-01-01\"\n",
    "end_date = \"2025-12-31\"  # Up to date data\n",
    "\n",
    "# Loop through each ticker\n",
    "for ticker in tickers:\n",
    "    try:\n",
    "        # Fetch historical data for the ticker\n",
    "        data = yf.download(ticker, start=start_date, end=end_date)\n",
    "\n",
    "        # Keep only the required columns (Open, Close, Volume)\n",
    "        data = data[[\"Open\", \"Close\", \"Volume\"]]\n",
    "\n",
    "        # Add the Ticker column\n",
    "        data[\"Ticker\"] = ticker\n",
    "\n",
    "        # Save the data to a CSV file\n",
    "        filename = f\"{ticker}_historical_data.csv\"\n",
    "        data.to_csv(filename)\n",
    "\n",
    "        print(f\"Saved data for {ticker} to {filename}\")\n",
    "    except Exception as e:\n",
    "        print(f\"Failed to fetch data for {ticker}: {e}\")\n",
    "\n",
    "    # Add a delay to avoid hitting rate limits\n",
    "    time.sleep(1)  # 1-second delay between requests"
   ]
  },
  {
   "cell_type": "code",
   "execution_count": null,
   "metadata": {},
   "outputs": [
    {
     "name": "stderr",
     "output_type": "stream",
     "text": [
      "[*********************100%***********************]  1 of 1 completed\n",
      "\n",
      "1 Failed download:\n",
      "['8316.T']: YFPricesMissingError('possibly delisted; no price data found  (1d 1990-01-01 -> 2025-12-31)')\n"
     ]
    },
    {
     "name": "stdout",
     "output_type": "stream",
     "text": [
      "Empty DataFrame\n",
      "Columns: [(Open, 8316.T), (Close, 8316.T), (Volume, 8316.T), (Ticker, )]\n",
      "Index: []\n",
      "---\n",
      "Empty DataFrame\n",
      "Columns: [(Open, 8316.T), (Close, 8316.T), (Volume, 8316.T), (Ticker, )]\n",
      "Index: []\n"
     ]
    }
   ],
   "source": [
    "import yfinance as yf\n",
    "\n",
    "# Define the ticker and date range\n",
    "ticker = \"8316.T\"\n",
    "start_date = \"1990-01-01\"\n",
    "end_date = \"2025-12-31\"  # Up to date data\n",
    "\n",
    "# Fetch historical data\n",
    "data = yf.download(ticker, start=start_date, end=end_date)\n",
    "\n",
    "# Keep only the required columns (Date, Open, Close, Volume)\n",
    "data = data[[\"Open\", \"Close\", \"Volume\"]]\n",
    "\n",
    "# Add the Ticker column\n",
    "data[\"Ticker\"] = ticker\n",
    "\n",
    "# Save the data to a CSV file\n",
    "data.to_csv(\"4151.T_historical_data.csv\")\n",
    "\n",
    "# Display the first few rows\n",
    "print(data.head())\n",
    "print('---')\n",
    "print(data)"
   ]
  },
  {
   "cell_type": "code",
   "execution_count": null,
   "metadata": {},
   "outputs": [
    {
     "name": "stdout",
     "output_type": "stream",
     "text": [
      "Found 225 CSV files.\n",
      "Successfully read D:/ONLINE Course/TECHLABS/Project/Datasets/Data/N225_companies_stock-data/Only-225_stock-data\\1332.T_historical_data.csv\n",
      "Successfully read D:/ONLINE Course/TECHLABS/Project/Datasets/Data/N225_companies_stock-data/Only-225_stock-data\\1605.T_historical_data.csv\n",
      "Successfully read D:/ONLINE Course/TECHLABS/Project/Datasets/Data/N225_companies_stock-data/Only-225_stock-data\\1721.T_historical_data.csv\n",
      "Successfully read D:/ONLINE Course/TECHLABS/Project/Datasets/Data/N225_companies_stock-data/Only-225_stock-data\\1801.T_historical_data.csv\n",
      "Successfully read D:/ONLINE Course/TECHLABS/Project/Datasets/Data/N225_companies_stock-data/Only-225_stock-data\\1802.T_historical_data.csv\n",
      "Successfully read D:/ONLINE Course/TECHLABS/Project/Datasets/Data/N225_companies_stock-data/Only-225_stock-data\\1803.T_historical_data.csv\n",
      "Successfully read D:/ONLINE Course/TECHLABS/Project/Datasets/Data/N225_companies_stock-data/Only-225_stock-data\\1808.T_historical_data.csv\n",
      "Successfully read D:/ONLINE Course/TECHLABS/Project/Datasets/Data/N225_companies_stock-data/Only-225_stock-data\\1812.T_historical_data.csv\n",
      "Successfully read D:/ONLINE Course/TECHLABS/Project/Datasets/Data/N225_companies_stock-data/Only-225_stock-data\\1925.T_historical_data.csv\n",
      "Successfully read D:/ONLINE Course/TECHLABS/Project/Datasets/Data/N225_companies_stock-data/Only-225_stock-data\\1928.T_historical_data.csv\n",
      "Successfully read D:/ONLINE Course/TECHLABS/Project/Datasets/Data/N225_companies_stock-data/Only-225_stock-data\\1963.T_historical_data.csv\n",
      "Successfully read D:/ONLINE Course/TECHLABS/Project/Datasets/Data/N225_companies_stock-data/Only-225_stock-data\\2002.T_historical_data.csv\n",
      "Successfully read D:/ONLINE Course/TECHLABS/Project/Datasets/Data/N225_companies_stock-data/Only-225_stock-data\\2269.T_historical_data.csv\n",
      "Successfully read D:/ONLINE Course/TECHLABS/Project/Datasets/Data/N225_companies_stock-data/Only-225_stock-data\\2282.T_historical_data.csv\n",
      "Successfully read D:/ONLINE Course/TECHLABS/Project/Datasets/Data/N225_companies_stock-data/Only-225_stock-data\\2413.T_historical_data.csv\n",
      "Successfully read D:/ONLINE Course/TECHLABS/Project/Datasets/Data/N225_companies_stock-data/Only-225_stock-data\\2432.T_historical_data.csv\n",
      "Successfully read D:/ONLINE Course/TECHLABS/Project/Datasets/Data/N225_companies_stock-data/Only-225_stock-data\\2501.T_historical_data.csv\n",
      "Successfully read D:/ONLINE Course/TECHLABS/Project/Datasets/Data/N225_companies_stock-data/Only-225_stock-data\\2502.T_historical_data.csv\n",
      "Successfully read D:/ONLINE Course/TECHLABS/Project/Datasets/Data/N225_companies_stock-data/Only-225_stock-data\\2503.T_historical_data.csv\n",
      "Successfully read D:/ONLINE Course/TECHLABS/Project/Datasets/Data/N225_companies_stock-data/Only-225_stock-data\\2768.T_historical_data.csv\n",
      "Successfully read D:/ONLINE Course/TECHLABS/Project/Datasets/Data/N225_companies_stock-data/Only-225_stock-data\\2801.T_historical_data.csv\n",
      "Successfully read D:/ONLINE Course/TECHLABS/Project/Datasets/Data/N225_companies_stock-data/Only-225_stock-data\\2802.T_historical_data.csv\n",
      "Successfully read D:/ONLINE Course/TECHLABS/Project/Datasets/Data/N225_companies_stock-data/Only-225_stock-data\\2871.T_historical_data.csv\n",
      "Successfully read D:/ONLINE Course/TECHLABS/Project/Datasets/Data/N225_companies_stock-data/Only-225_stock-data\\2914.T_historical_data.csv\n",
      "Successfully read D:/ONLINE Course/TECHLABS/Project/Datasets/Data/N225_companies_stock-data/Only-225_stock-data\\3086.T_historical_data.csv\n",
      "Successfully read D:/ONLINE Course/TECHLABS/Project/Datasets/Data/N225_companies_stock-data/Only-225_stock-data\\3092.T_historical_data.csv\n",
      "Successfully read D:/ONLINE Course/TECHLABS/Project/Datasets/Data/N225_companies_stock-data/Only-225_stock-data\\3099.T_historical_data.csv\n",
      "Successfully read D:/ONLINE Course/TECHLABS/Project/Datasets/Data/N225_companies_stock-data/Only-225_stock-data\\3289.T_historical_data.csv\n",
      "Successfully read D:/ONLINE Course/TECHLABS/Project/Datasets/Data/N225_companies_stock-data/Only-225_stock-data\\3382.T_historical_data.csv\n",
      "Successfully read D:/ONLINE Course/TECHLABS/Project/Datasets/Data/N225_companies_stock-data/Only-225_stock-data\\3401.T_historical_data.csv\n",
      "Successfully read D:/ONLINE Course/TECHLABS/Project/Datasets/Data/N225_companies_stock-data/Only-225_stock-data\\3402.T_historical_data.csv\n",
      "Successfully read D:/ONLINE Course/TECHLABS/Project/Datasets/Data/N225_companies_stock-data/Only-225_stock-data\\3405.T_historical_data.csv\n",
      "Successfully read D:/ONLINE Course/TECHLABS/Project/Datasets/Data/N225_companies_stock-data/Only-225_stock-data\\3407.T_historical_data.csv\n",
      "Successfully read D:/ONLINE Course/TECHLABS/Project/Datasets/Data/N225_companies_stock-data/Only-225_stock-data\\3436.T_historical_data.csv\n",
      "Successfully read D:/ONLINE Course/TECHLABS/Project/Datasets/Data/N225_companies_stock-data/Only-225_stock-data\\3659.T_historical_data.csv\n",
      "Successfully read D:/ONLINE Course/TECHLABS/Project/Datasets/Data/N225_companies_stock-data/Only-225_stock-data\\3861.T_historical_data.csv\n",
      "Successfully read D:/ONLINE Course/TECHLABS/Project/Datasets/Data/N225_companies_stock-data/Only-225_stock-data\\4004.T_historical_data.csv\n",
      "Successfully read D:/ONLINE Course/TECHLABS/Project/Datasets/Data/N225_companies_stock-data/Only-225_stock-data\\4005.T_historical_data.csv\n",
      "Successfully read D:/ONLINE Course/TECHLABS/Project/Datasets/Data/N225_companies_stock-data/Only-225_stock-data\\4021.T_historical_data.csv\n",
      "Successfully read D:/ONLINE Course/TECHLABS/Project/Datasets/Data/N225_companies_stock-data/Only-225_stock-data\\4042.T_historical_data.csv\n",
      "Successfully read D:/ONLINE Course/TECHLABS/Project/Datasets/Data/N225_companies_stock-data/Only-225_stock-data\\4043.T_historical_data.csv\n",
      "Successfully read D:/ONLINE Course/TECHLABS/Project/Datasets/Data/N225_companies_stock-data/Only-225_stock-data\\4061.T_historical_data.csv\n",
      "Successfully read D:/ONLINE Course/TECHLABS/Project/Datasets/Data/N225_companies_stock-data/Only-225_stock-data\\4063.T_historical_data.csv\n",
      "Successfully read D:/ONLINE Course/TECHLABS/Project/Datasets/Data/N225_companies_stock-data/Only-225_stock-data\\4151.T_historical_data.csv\n",
      "Successfully read D:/ONLINE Course/TECHLABS/Project/Datasets/Data/N225_companies_stock-data/Only-225_stock-data\\4183.T_historical_data.csv\n",
      "Successfully read D:/ONLINE Course/TECHLABS/Project/Datasets/Data/N225_companies_stock-data/Only-225_stock-data\\4188.T_historical_data.csv\n",
      "Successfully read D:/ONLINE Course/TECHLABS/Project/Datasets/Data/N225_companies_stock-data/Only-225_stock-data\\4208.T_historical_data.csv\n",
      "Successfully read D:/ONLINE Course/TECHLABS/Project/Datasets/Data/N225_companies_stock-data/Only-225_stock-data\\4307.T_historical_data.csv\n",
      "Successfully read D:/ONLINE Course/TECHLABS/Project/Datasets/Data/N225_companies_stock-data/Only-225_stock-data\\4324.T_historical_data.csv\n",
      "Successfully read D:/ONLINE Course/TECHLABS/Project/Datasets/Data/N225_companies_stock-data/Only-225_stock-data\\4385.T_historical_data.csv\n",
      "Successfully read D:/ONLINE Course/TECHLABS/Project/Datasets/Data/N225_companies_stock-data/Only-225_stock-data\\4452.T_historical_data.csv\n",
      "Successfully read D:/ONLINE Course/TECHLABS/Project/Datasets/Data/N225_companies_stock-data/Only-225_stock-data\\4502.T_historical_data.csv\n",
      "Successfully read D:/ONLINE Course/TECHLABS/Project/Datasets/Data/N225_companies_stock-data/Only-225_stock-data\\4503.T_historical_data.csv\n",
      "Successfully read D:/ONLINE Course/TECHLABS/Project/Datasets/Data/N225_companies_stock-data/Only-225_stock-data\\4506.T_historical_data.csv\n",
      "Successfully read D:/ONLINE Course/TECHLABS/Project/Datasets/Data/N225_companies_stock-data/Only-225_stock-data\\4507.T_historical_data.csv\n",
      "Successfully read D:/ONLINE Course/TECHLABS/Project/Datasets/Data/N225_companies_stock-data/Only-225_stock-data\\4519.T_historical_data.csv\n",
      "Successfully read D:/ONLINE Course/TECHLABS/Project/Datasets/Data/N225_companies_stock-data/Only-225_stock-data\\4523.T_historical_data.csv\n",
      "Successfully read D:/ONLINE Course/TECHLABS/Project/Datasets/Data/N225_companies_stock-data/Only-225_stock-data\\4543.T_historical_data.csv\n",
      "Successfully read D:/ONLINE Course/TECHLABS/Project/Datasets/Data/N225_companies_stock-data/Only-225_stock-data\\4568.T_historical_data.csv\n",
      "Successfully read D:/ONLINE Course/TECHLABS/Project/Datasets/Data/N225_companies_stock-data/Only-225_stock-data\\4578.T_historical_data.csv\n",
      "Successfully read D:/ONLINE Course/TECHLABS/Project/Datasets/Data/N225_companies_stock-data/Only-225_stock-data\\4661.T_historical_data.csv\n",
      "Successfully read D:/ONLINE Course/TECHLABS/Project/Datasets/Data/N225_companies_stock-data/Only-225_stock-data\\4689.T_historical_data.csv\n",
      "Successfully read D:/ONLINE Course/TECHLABS/Project/Datasets/Data/N225_companies_stock-data/Only-225_stock-data\\4704.T_historical_data.csv\n",
      "Successfully read D:/ONLINE Course/TECHLABS/Project/Datasets/Data/N225_companies_stock-data/Only-225_stock-data\\4751.T_historical_data.csv\n",
      "Successfully read D:/ONLINE Course/TECHLABS/Project/Datasets/Data/N225_companies_stock-data/Only-225_stock-data\\4755.T_historical_data.csv\n",
      "Successfully read D:/ONLINE Course/TECHLABS/Project/Datasets/Data/N225_companies_stock-data/Only-225_stock-data\\4901.T_historical_data.csv\n",
      "Successfully read D:/ONLINE Course/TECHLABS/Project/Datasets/Data/N225_companies_stock-data/Only-225_stock-data\\4902.T_historical_data.csv\n",
      "Successfully read D:/ONLINE Course/TECHLABS/Project/Datasets/Data/N225_companies_stock-data/Only-225_stock-data\\4911.T_historical_data.csv\n",
      "Successfully read D:/ONLINE Course/TECHLABS/Project/Datasets/Data/N225_companies_stock-data/Only-225_stock-data\\5019.T_historical_data.csv\n",
      "Successfully read D:/ONLINE Course/TECHLABS/Project/Datasets/Data/N225_companies_stock-data/Only-225_stock-data\\5020.T_historical_data.csv\n",
      "Successfully read D:/ONLINE Course/TECHLABS/Project/Datasets/Data/N225_companies_stock-data/Only-225_stock-data\\5101.T_historical_data.csv\n",
      "Successfully read D:/ONLINE Course/TECHLABS/Project/Datasets/Data/N225_companies_stock-data/Only-225_stock-data\\5108.T_historical_data.csv\n",
      "Successfully read D:/ONLINE Course/TECHLABS/Project/Datasets/Data/N225_companies_stock-data/Only-225_stock-data\\5201.T_historical_data.csv\n",
      "Successfully read D:/ONLINE Course/TECHLABS/Project/Datasets/Data/N225_companies_stock-data/Only-225_stock-data\\5214.T_historical_data.csv\n",
      "Successfully read D:/ONLINE Course/TECHLABS/Project/Datasets/Data/N225_companies_stock-data/Only-225_stock-data\\5233.T_historical_data.csv\n",
      "Successfully read D:/ONLINE Course/TECHLABS/Project/Datasets/Data/N225_companies_stock-data/Only-225_stock-data\\5301.T_historical_data.csv\n",
      "Successfully read D:/ONLINE Course/TECHLABS/Project/Datasets/Data/N225_companies_stock-data/Only-225_stock-data\\5332.T_historical_data.csv\n",
      "Successfully read D:/ONLINE Course/TECHLABS/Project/Datasets/Data/N225_companies_stock-data/Only-225_stock-data\\5333.T_historical_data.csv\n",
      "Successfully read D:/ONLINE Course/TECHLABS/Project/Datasets/Data/N225_companies_stock-data/Only-225_stock-data\\5401.T_historical_data.csv\n",
      "Successfully read D:/ONLINE Course/TECHLABS/Project/Datasets/Data/N225_companies_stock-data/Only-225_stock-data\\5406.T_historical_data.csv\n",
      "Successfully read D:/ONLINE Course/TECHLABS/Project/Datasets/Data/N225_companies_stock-data/Only-225_stock-data\\5411.T_historical_data.csv\n",
      "Successfully read D:/ONLINE Course/TECHLABS/Project/Datasets/Data/N225_companies_stock-data/Only-225_stock-data\\5631.T_historical_data.csv\n",
      "Successfully read D:/ONLINE Course/TECHLABS/Project/Datasets/Data/N225_companies_stock-data/Only-225_stock-data\\5706.T_historical_data.csv\n",
      "Successfully read D:/ONLINE Course/TECHLABS/Project/Datasets/Data/N225_companies_stock-data/Only-225_stock-data\\5711.T_historical_data.csv\n",
      "Successfully read D:/ONLINE Course/TECHLABS/Project/Datasets/Data/N225_companies_stock-data/Only-225_stock-data\\5713.T_historical_data.csv\n",
      "Successfully read D:/ONLINE Course/TECHLABS/Project/Datasets/Data/N225_companies_stock-data/Only-225_stock-data\\5714.T_historical_data.csv\n",
      "Successfully read D:/ONLINE Course/TECHLABS/Project/Datasets/Data/N225_companies_stock-data/Only-225_stock-data\\5801.T_historical_data.csv\n",
      "Successfully read D:/ONLINE Course/TECHLABS/Project/Datasets/Data/N225_companies_stock-data/Only-225_stock-data\\5802.T_historical_data.csv\n",
      "Successfully read D:/ONLINE Course/TECHLABS/Project/Datasets/Data/N225_companies_stock-data/Only-225_stock-data\\5803.T_historical_data.csv\n",
      "Successfully read D:/ONLINE Course/TECHLABS/Project/Datasets/Data/N225_companies_stock-data/Only-225_stock-data\\5831.T_historical_data.csv\n",
      "Successfully read D:/ONLINE Course/TECHLABS/Project/Datasets/Data/N225_companies_stock-data/Only-225_stock-data\\6098.T_historical_data.csv\n",
      "Successfully read D:/ONLINE Course/TECHLABS/Project/Datasets/Data/N225_companies_stock-data/Only-225_stock-data\\6103.T_historical_data.csv\n",
      "Successfully read D:/ONLINE Course/TECHLABS/Project/Datasets/Data/N225_companies_stock-data/Only-225_stock-data\\6113.T_historical_data.csv\n",
      "Successfully read D:/ONLINE Course/TECHLABS/Project/Datasets/Data/N225_companies_stock-data/Only-225_stock-data\\6146.T_historical_data.csv\n",
      "Successfully read D:/ONLINE Course/TECHLABS/Project/Datasets/Data/N225_companies_stock-data/Only-225_stock-data\\6178.T_historical_data.csv\n",
      "Successfully read D:/ONLINE Course/TECHLABS/Project/Datasets/Data/N225_companies_stock-data/Only-225_stock-data\\6273.T_historical_data.csv\n",
      "Successfully read D:/ONLINE Course/TECHLABS/Project/Datasets/Data/N225_companies_stock-data/Only-225_stock-data\\6301.T_historical_data.csv\n",
      "Successfully read D:/ONLINE Course/TECHLABS/Project/Datasets/Data/N225_companies_stock-data/Only-225_stock-data\\6302.T_historical_data.csv\n",
      "Successfully read D:/ONLINE Course/TECHLABS/Project/Datasets/Data/N225_companies_stock-data/Only-225_stock-data\\6305.T_historical_data.csv\n",
      "Successfully read D:/ONLINE Course/TECHLABS/Project/Datasets/Data/N225_companies_stock-data/Only-225_stock-data\\6326.T_historical_data.csv\n",
      "Successfully read D:/ONLINE Course/TECHLABS/Project/Datasets/Data/N225_companies_stock-data/Only-225_stock-data\\6361.T_historical_data.csv\n",
      "Successfully read D:/ONLINE Course/TECHLABS/Project/Datasets/Data/N225_companies_stock-data/Only-225_stock-data\\6367.T_historical_data.csv\n",
      "Successfully read D:/ONLINE Course/TECHLABS/Project/Datasets/Data/N225_companies_stock-data/Only-225_stock-data\\6471.T_historical_data.csv\n",
      "Successfully read D:/ONLINE Course/TECHLABS/Project/Datasets/Data/N225_companies_stock-data/Only-225_stock-data\\6472.T_historical_data.csv\n",
      "Successfully read D:/ONLINE Course/TECHLABS/Project/Datasets/Data/N225_companies_stock-data/Only-225_stock-data\\6473.T_historical_data.csv\n",
      "Successfully read D:/ONLINE Course/TECHLABS/Project/Datasets/Data/N225_companies_stock-data/Only-225_stock-data\\6479.T_historical_data.csv\n",
      "Successfully read D:/ONLINE Course/TECHLABS/Project/Datasets/Data/N225_companies_stock-data/Only-225_stock-data\\6501.T_historical_data.csv\n",
      "Successfully read D:/ONLINE Course/TECHLABS/Project/Datasets/Data/N225_companies_stock-data/Only-225_stock-data\\6503.T_historical_data.csv\n",
      "Successfully read D:/ONLINE Course/TECHLABS/Project/Datasets/Data/N225_companies_stock-data/Only-225_stock-data\\6504.T_historical_data.csv\n",
      "Successfully read D:/ONLINE Course/TECHLABS/Project/Datasets/Data/N225_companies_stock-data/Only-225_stock-data\\6506.T_historical_data.csv\n",
      "Successfully read D:/ONLINE Course/TECHLABS/Project/Datasets/Data/N225_companies_stock-data/Only-225_stock-data\\6526.T_historical_data.csv\n",
      "Successfully read D:/ONLINE Course/TECHLABS/Project/Datasets/Data/N225_companies_stock-data/Only-225_stock-data\\6594.T_historical_data.csv\n",
      "Successfully read D:/ONLINE Course/TECHLABS/Project/Datasets/Data/N225_companies_stock-data/Only-225_stock-data\\6645.T_historical_data.csv\n",
      "Successfully read D:/ONLINE Course/TECHLABS/Project/Datasets/Data/N225_companies_stock-data/Only-225_stock-data\\6674.T_historical_data.csv\n",
      "Successfully read D:/ONLINE Course/TECHLABS/Project/Datasets/Data/N225_companies_stock-data/Only-225_stock-data\\6701.T_historical_data.csv\n",
      "Successfully read D:/ONLINE Course/TECHLABS/Project/Datasets/Data/N225_companies_stock-data/Only-225_stock-data\\6702.T_historical_data.csv\n",
      "Successfully read D:/ONLINE Course/TECHLABS/Project/Datasets/Data/N225_companies_stock-data/Only-225_stock-data\\6723.T_historical_data.csv\n",
      "Successfully read D:/ONLINE Course/TECHLABS/Project/Datasets/Data/N225_companies_stock-data/Only-225_stock-data\\6724.T_historical_data.csv\n",
      "Successfully read D:/ONLINE Course/TECHLABS/Project/Datasets/Data/N225_companies_stock-data/Only-225_stock-data\\6752.T_historical_data.csv\n",
      "Successfully read D:/ONLINE Course/TECHLABS/Project/Datasets/Data/N225_companies_stock-data/Only-225_stock-data\\6753.T_historical_data.csv\n",
      "Successfully read D:/ONLINE Course/TECHLABS/Project/Datasets/Data/N225_companies_stock-data/Only-225_stock-data\\6758.T_historical_data.csv\n",
      "Successfully read D:/ONLINE Course/TECHLABS/Project/Datasets/Data/N225_companies_stock-data/Only-225_stock-data\\6762.T_historical_data.csv\n",
      "Successfully read D:/ONLINE Course/TECHLABS/Project/Datasets/Data/N225_companies_stock-data/Only-225_stock-data\\6770.T_historical_data.csv\n",
      "Successfully read D:/ONLINE Course/TECHLABS/Project/Datasets/Data/N225_companies_stock-data/Only-225_stock-data\\6841.T_historical_data.csv\n",
      "Successfully read D:/ONLINE Course/TECHLABS/Project/Datasets/Data/N225_companies_stock-data/Only-225_stock-data\\6857.T_historical_data.csv\n",
      "Successfully read D:/ONLINE Course/TECHLABS/Project/Datasets/Data/N225_companies_stock-data/Only-225_stock-data\\6861.T_historical_data.csv\n",
      "Successfully read D:/ONLINE Course/TECHLABS/Project/Datasets/Data/N225_companies_stock-data/Only-225_stock-data\\6902.T_historical_data.csv\n",
      "Successfully read D:/ONLINE Course/TECHLABS/Project/Datasets/Data/N225_companies_stock-data/Only-225_stock-data\\6920.T_historical_data.csv\n",
      "Successfully read D:/ONLINE Course/TECHLABS/Project/Datasets/Data/N225_companies_stock-data/Only-225_stock-data\\6952.T_historical_data.csv\n",
      "Successfully read D:/ONLINE Course/TECHLABS/Project/Datasets/Data/N225_companies_stock-data/Only-225_stock-data\\6954.T_historical_data.csv\n",
      "Successfully read D:/ONLINE Course/TECHLABS/Project/Datasets/Data/N225_companies_stock-data/Only-225_stock-data\\6971.T_historical_data.csv\n",
      "Successfully read D:/ONLINE Course/TECHLABS/Project/Datasets/Data/N225_companies_stock-data/Only-225_stock-data\\6976.T_historical_data.csv\n",
      "Successfully read D:/ONLINE Course/TECHLABS/Project/Datasets/Data/N225_companies_stock-data/Only-225_stock-data\\6981.T_historical_data.csv\n",
      "Successfully read D:/ONLINE Course/TECHLABS/Project/Datasets/Data/N225_companies_stock-data/Only-225_stock-data\\6988.T_historical_data.csv\n",
      "Successfully read D:/ONLINE Course/TECHLABS/Project/Datasets/Data/N225_companies_stock-data/Only-225_stock-data\\7004.T_historical_data.csv\n",
      "Successfully read D:/ONLINE Course/TECHLABS/Project/Datasets/Data/N225_companies_stock-data/Only-225_stock-data\\7011.T_historical_data.csv\n",
      "Successfully read D:/ONLINE Course/TECHLABS/Project/Datasets/Data/N225_companies_stock-data/Only-225_stock-data\\7012.T_historical_data.csv\n",
      "Successfully read D:/ONLINE Course/TECHLABS/Project/Datasets/Data/N225_companies_stock-data/Only-225_stock-data\\7013.T_historical_data.csv\n",
      "Successfully read D:/ONLINE Course/TECHLABS/Project/Datasets/Data/N225_companies_stock-data/Only-225_stock-data\\7186.T_historical_data.csv\n",
      "Successfully read D:/ONLINE Course/TECHLABS/Project/Datasets/Data/N225_companies_stock-data/Only-225_stock-data\\7201.T_historical_data.csv\n",
      "Successfully read D:/ONLINE Course/TECHLABS/Project/Datasets/Data/N225_companies_stock-data/Only-225_stock-data\\7202.T_historical_data.csv\n",
      "Successfully read D:/ONLINE Course/TECHLABS/Project/Datasets/Data/N225_companies_stock-data/Only-225_stock-data\\7203.T_historical_data.csv\n",
      "Successfully read D:/ONLINE Course/TECHLABS/Project/Datasets/Data/N225_companies_stock-data/Only-225_stock-data\\7205.T_historical_data.csv\n",
      "Successfully read D:/ONLINE Course/TECHLABS/Project/Datasets/Data/N225_companies_stock-data/Only-225_stock-data\\7211.T_historical_data.csv\n",
      "Successfully read D:/ONLINE Course/TECHLABS/Project/Datasets/Data/N225_companies_stock-data/Only-225_stock-data\\7261.T_historical_data.csv\n",
      "Successfully read D:/ONLINE Course/TECHLABS/Project/Datasets/Data/N225_companies_stock-data/Only-225_stock-data\\7267.T_historical_data.csv\n",
      "Successfully read D:/ONLINE Course/TECHLABS/Project/Datasets/Data/N225_companies_stock-data/Only-225_stock-data\\7269.T_historical_data.csv\n",
      "Successfully read D:/ONLINE Course/TECHLABS/Project/Datasets/Data/N225_companies_stock-data/Only-225_stock-data\\7270.T_historical_data.csv\n",
      "Successfully read D:/ONLINE Course/TECHLABS/Project/Datasets/Data/N225_companies_stock-data/Only-225_stock-data\\7272.T_historical_data.csv\n",
      "Successfully read D:/ONLINE Course/TECHLABS/Project/Datasets/Data/N225_companies_stock-data/Only-225_stock-data\\7453.T_historical_data.csv\n",
      "Successfully read D:/ONLINE Course/TECHLABS/Project/Datasets/Data/N225_companies_stock-data/Only-225_stock-data\\7731.T_historical_data.csv\n",
      "Successfully read D:/ONLINE Course/TECHLABS/Project/Datasets/Data/N225_companies_stock-data/Only-225_stock-data\\7733.T_historical_data.csv\n",
      "Successfully read D:/ONLINE Course/TECHLABS/Project/Datasets/Data/N225_companies_stock-data/Only-225_stock-data\\7735.T_historical_data.csv\n",
      "Successfully read D:/ONLINE Course/TECHLABS/Project/Datasets/Data/N225_companies_stock-data/Only-225_stock-data\\7741.T_historical_data.csv\n",
      "Successfully read D:/ONLINE Course/TECHLABS/Project/Datasets/Data/N225_companies_stock-data/Only-225_stock-data\\7751.T_historical_data.csv\n",
      "Successfully read D:/ONLINE Course/TECHLABS/Project/Datasets/Data/N225_companies_stock-data/Only-225_stock-data\\7752.T_historical_data.csv\n",
      "Successfully read D:/ONLINE Course/TECHLABS/Project/Datasets/Data/N225_companies_stock-data/Only-225_stock-data\\7762.T_historical_data.csv\n",
      "Successfully read D:/ONLINE Course/TECHLABS/Project/Datasets/Data/N225_companies_stock-data/Only-225_stock-data\\7832.T_historical_data.csv\n",
      "Successfully read D:/ONLINE Course/TECHLABS/Project/Datasets/Data/N225_companies_stock-data/Only-225_stock-data\\7911.T_historical_data.csv\n",
      "Successfully read D:/ONLINE Course/TECHLABS/Project/Datasets/Data/N225_companies_stock-data/Only-225_stock-data\\7912.T_historical_data.csv\n",
      "Successfully read D:/ONLINE Course/TECHLABS/Project/Datasets/Data/N225_companies_stock-data/Only-225_stock-data\\7951.T_historical_data.csv\n",
      "Successfully read D:/ONLINE Course/TECHLABS/Project/Datasets/Data/N225_companies_stock-data/Only-225_stock-data\\7974.T_historical_data.csv\n",
      "Successfully read D:/ONLINE Course/TECHLABS/Project/Datasets/Data/N225_companies_stock-data/Only-225_stock-data\\8001.T_historical_data.csv\n",
      "Successfully read D:/ONLINE Course/TECHLABS/Project/Datasets/Data/N225_companies_stock-data/Only-225_stock-data\\8002.T_historical_data.csv\n",
      "Successfully read D:/ONLINE Course/TECHLABS/Project/Datasets/Data/N225_companies_stock-data/Only-225_stock-data\\8015.T_historical_data.csv\n",
      "Successfully read D:/ONLINE Course/TECHLABS/Project/Datasets/Data/N225_companies_stock-data/Only-225_stock-data\\8031.T_historical_data.csv\n",
      "Successfully read D:/ONLINE Course/TECHLABS/Project/Datasets/Data/N225_companies_stock-data/Only-225_stock-data\\8035.T_historical_data.csv\n",
      "Successfully read D:/ONLINE Course/TECHLABS/Project/Datasets/Data/N225_companies_stock-data/Only-225_stock-data\\8053.T_historical_data.csv\n",
      "Successfully read D:/ONLINE Course/TECHLABS/Project/Datasets/Data/N225_companies_stock-data/Only-225_stock-data\\8058.T_historical_data.csv\n",
      "Successfully read D:/ONLINE Course/TECHLABS/Project/Datasets/Data/N225_companies_stock-data/Only-225_stock-data\\8233.T_historical_data.csv\n",
      "Successfully read D:/ONLINE Course/TECHLABS/Project/Datasets/Data/N225_companies_stock-data/Only-225_stock-data\\8252.T_historical_data.csv\n",
      "Successfully read D:/ONLINE Course/TECHLABS/Project/Datasets/Data/N225_companies_stock-data/Only-225_stock-data\\8253.T_historical_data.csv\n",
      "Successfully read D:/ONLINE Course/TECHLABS/Project/Datasets/Data/N225_companies_stock-data/Only-225_stock-data\\8267.T_historical_data.csv\n",
      "Successfully read D:/ONLINE Course/TECHLABS/Project/Datasets/Data/N225_companies_stock-data/Only-225_stock-data\\8304.T_historical_data.csv\n",
      "Successfully read D:/ONLINE Course/TECHLABS/Project/Datasets/Data/N225_companies_stock-data/Only-225_stock-data\\8306.T_historical_data.csv\n",
      "Successfully read D:/ONLINE Course/TECHLABS/Project/Datasets/Data/N225_companies_stock-data/Only-225_stock-data\\8308.T_historical_data.csv\n",
      "Successfully read D:/ONLINE Course/TECHLABS/Project/Datasets/Data/N225_companies_stock-data/Only-225_stock-data\\8309.T_historical_data.csv\n",
      "Successfully read D:/ONLINE Course/TECHLABS/Project/Datasets/Data/N225_companies_stock-data/Only-225_stock-data\\8316.T_historical_data.csv\n",
      "Successfully read D:/ONLINE Course/TECHLABS/Project/Datasets/Data/N225_companies_stock-data/Only-225_stock-data\\8331.T_historical_data.csv\n",
      "Successfully read D:/ONLINE Course/TECHLABS/Project/Datasets/Data/N225_companies_stock-data/Only-225_stock-data\\8354.T_historical_data.csv\n",
      "Successfully read D:/ONLINE Course/TECHLABS/Project/Datasets/Data/N225_companies_stock-data/Only-225_stock-data\\8411.T_historical_data.csv\n",
      "Successfully read D:/ONLINE Course/TECHLABS/Project/Datasets/Data/N225_companies_stock-data/Only-225_stock-data\\8591.T_historical_data.csv\n",
      "Successfully read D:/ONLINE Course/TECHLABS/Project/Datasets/Data/N225_companies_stock-data/Only-225_stock-data\\8601.T_historical_data.csv\n",
      "Successfully read D:/ONLINE Course/TECHLABS/Project/Datasets/Data/N225_companies_stock-data/Only-225_stock-data\\8604.T_historical_data.csv\n",
      "Successfully read D:/ONLINE Course/TECHLABS/Project/Datasets/Data/N225_companies_stock-data/Only-225_stock-data\\8630.T_historical_data.csv\n",
      "Successfully read D:/ONLINE Course/TECHLABS/Project/Datasets/Data/N225_companies_stock-data/Only-225_stock-data\\8697.T_historical_data.csv\n",
      "Successfully read D:/ONLINE Course/TECHLABS/Project/Datasets/Data/N225_companies_stock-data/Only-225_stock-data\\8725.T_historical_data.csv\n",
      "Successfully read D:/ONLINE Course/TECHLABS/Project/Datasets/Data/N225_companies_stock-data/Only-225_stock-data\\8750.T_historical_data.csv\n",
      "Successfully read D:/ONLINE Course/TECHLABS/Project/Datasets/Data/N225_companies_stock-data/Only-225_stock-data\\8766.T_historical_data.csv\n",
      "Successfully read D:/ONLINE Course/TECHLABS/Project/Datasets/Data/N225_companies_stock-data/Only-225_stock-data\\8795.T_historical_data.csv\n",
      "Successfully read D:/ONLINE Course/TECHLABS/Project/Datasets/Data/N225_companies_stock-data/Only-225_stock-data\\8801.T_historical_data.csv\n",
      "Successfully read D:/ONLINE Course/TECHLABS/Project/Datasets/Data/N225_companies_stock-data/Only-225_stock-data\\8802.T_historical_data.csv\n",
      "Successfully read D:/ONLINE Course/TECHLABS/Project/Datasets/Data/N225_companies_stock-data/Only-225_stock-data\\8804.T_historical_data.csv\n",
      "Successfully read D:/ONLINE Course/TECHLABS/Project/Datasets/Data/N225_companies_stock-data/Only-225_stock-data\\8830.T_historical_data.csv\n",
      "Successfully read D:/ONLINE Course/TECHLABS/Project/Datasets/Data/N225_companies_stock-data/Only-225_stock-data\\9001.T_historical_data.csv\n",
      "Successfully read D:/ONLINE Course/TECHLABS/Project/Datasets/Data/N225_companies_stock-data/Only-225_stock-data\\9005.T_historical_data.csv\n",
      "Successfully read D:/ONLINE Course/TECHLABS/Project/Datasets/Data/N225_companies_stock-data/Only-225_stock-data\\9007.T_historical_data.csv\n",
      "Successfully read D:/ONLINE Course/TECHLABS/Project/Datasets/Data/N225_companies_stock-data/Only-225_stock-data\\9008.T_historical_data.csv\n",
      "Successfully read D:/ONLINE Course/TECHLABS/Project/Datasets/Data/N225_companies_stock-data/Only-225_stock-data\\9009.T_historical_data.csv\n",
      "Successfully read D:/ONLINE Course/TECHLABS/Project/Datasets/Data/N225_companies_stock-data/Only-225_stock-data\\9020.T_historical_data.csv\n",
      "Successfully read D:/ONLINE Course/TECHLABS/Project/Datasets/Data/N225_companies_stock-data/Only-225_stock-data\\9021.T_historical_data.csv\n",
      "Successfully read D:/ONLINE Course/TECHLABS/Project/Datasets/Data/N225_companies_stock-data/Only-225_stock-data\\9022.T_historical_data.csv\n",
      "Successfully read D:/ONLINE Course/TECHLABS/Project/Datasets/Data/N225_companies_stock-data/Only-225_stock-data\\9064.T_historical_data.csv\n",
      "Successfully read D:/ONLINE Course/TECHLABS/Project/Datasets/Data/N225_companies_stock-data/Only-225_stock-data\\9101.T_historical_data.csv\n",
      "Successfully read D:/ONLINE Course/TECHLABS/Project/Datasets/Data/N225_companies_stock-data/Only-225_stock-data\\9104.T_historical_data.csv\n",
      "Successfully read D:/ONLINE Course/TECHLABS/Project/Datasets/Data/N225_companies_stock-data/Only-225_stock-data\\9107.T_historical_data.csv\n",
      "Successfully read D:/ONLINE Course/TECHLABS/Project/Datasets/Data/N225_companies_stock-data/Only-225_stock-data\\9147.T_historical_data.csv\n",
      "Successfully read D:/ONLINE Course/TECHLABS/Project/Datasets/Data/N225_companies_stock-data/Only-225_stock-data\\9201.T_historical_data.csv\n",
      "Successfully read D:/ONLINE Course/TECHLABS/Project/Datasets/Data/N225_companies_stock-data/Only-225_stock-data\\9202.T_historical_data.csv\n",
      "Successfully read D:/ONLINE Course/TECHLABS/Project/Datasets/Data/N225_companies_stock-data/Only-225_stock-data\\9301.T_historical_data.csv\n",
      "Successfully read D:/ONLINE Course/TECHLABS/Project/Datasets/Data/N225_companies_stock-data/Only-225_stock-data\\9432.T_historical_data.csv\n",
      "Successfully read D:/ONLINE Course/TECHLABS/Project/Datasets/Data/N225_companies_stock-data/Only-225_stock-data\\9433.T_historical_data.csv\n",
      "Successfully read D:/ONLINE Course/TECHLABS/Project/Datasets/Data/N225_companies_stock-data/Only-225_stock-data\\9434.T_historical_data.csv\n",
      "Successfully read D:/ONLINE Course/TECHLABS/Project/Datasets/Data/N225_companies_stock-data/Only-225_stock-data\\9501.T_historical_data.csv\n",
      "Successfully read D:/ONLINE Course/TECHLABS/Project/Datasets/Data/N225_companies_stock-data/Only-225_stock-data\\9502.T_historical_data.csv\n",
      "Successfully read D:/ONLINE Course/TECHLABS/Project/Datasets/Data/N225_companies_stock-data/Only-225_stock-data\\9503.T_historical_data.csv\n",
      "Successfully read D:/ONLINE Course/TECHLABS/Project/Datasets/Data/N225_companies_stock-data/Only-225_stock-data\\9531.T_historical_data.csv\n",
      "Successfully read D:/ONLINE Course/TECHLABS/Project/Datasets/Data/N225_companies_stock-data/Only-225_stock-data\\9532.T_historical_data.csv\n",
      "Successfully read D:/ONLINE Course/TECHLABS/Project/Datasets/Data/N225_companies_stock-data/Only-225_stock-data\\9602.T_historical_data.csv\n",
      "Successfully read D:/ONLINE Course/TECHLABS/Project/Datasets/Data/N225_companies_stock-data/Only-225_stock-data\\9613.T_historical_data.csv\n",
      "Successfully read D:/ONLINE Course/TECHLABS/Project/Datasets/Data/N225_companies_stock-data/Only-225_stock-data\\9735.T_historical_data.csv\n",
      "Successfully read D:/ONLINE Course/TECHLABS/Project/Datasets/Data/N225_companies_stock-data/Only-225_stock-data\\9766.T_historical_data.csv\n",
      "Successfully read D:/ONLINE Course/TECHLABS/Project/Datasets/Data/N225_companies_stock-data/Only-225_stock-data\\9843.T_historical_data.csv\n",
      "Successfully read D:/ONLINE Course/TECHLABS/Project/Datasets/Data/N225_companies_stock-data/Only-225_stock-data\\9983.T_historical_data.csv\n",
      "Successfully read D:/ONLINE Course/TECHLABS/Project/Datasets/Data/N225_companies_stock-data/Only-225_stock-data\\9984.T_historical_data.csv\n",
      "Combined DataFrame:\n",
      "        Price                Open              Close  Volume  \\\n",
      "0      Ticker              1332.T             1332.T  1332.T   \n",
      "1        Date                 NaN                NaN     NaN   \n",
      "2  2000-01-04   96.17342799484351  95.56473541259766  296000   \n",
      "3  2000-01-05   99.82558348831859  95.56473541259766  637000   \n",
      "4  2000-01-06  101.65168214575645  99.21691131591797  411000   \n",
      "\n",
      "                   Ticker  \n",
      "0  1332.T_historical_data  \n",
      "1  1332.T_historical_data  \n",
      "2  1332.T_historical_data  \n",
      "3  1332.T_historical_data  \n",
      "4  1332.T_historical_data  \n",
      "Combined data saved to D:/ONLINE Course/TECHLABS/Project/Datasets/Data/N225_companies_stock-data/Only-225_stock-data\\combined_225_stock_data.csv\n"
     ]
    }
   ],
   "source": [
    "import os\n",
    "import glob\n",
    "import pandas as pd\n",
    "\n",
    "# Step 1: Define the folder containing the CSV files\n",
    "folder_path = \"D:/ONLINE Course/TECHLABS/Project/Datasets/Data/N225_companies_stock-data/Only-225_stock-data\"  #the path to the folder\n",
    "\n",
    "# Step 2: Find all CSV files in the folder\n",
    "csv_files = glob.glob(os.path.join(folder_path, \"*.csv\"))\n",
    "\n",
    "# Step 3: Check if any CSV files were found\n",
    "if not csv_files:\n",
    "    print(\"No CSV files found in the folder.\")\n",
    "else:\n",
    "    print(f\"Found {len(csv_files)} CSV files.\")\n",
    "\n",
    "    # Step 4: Read all CSV files into a list of DataFrames\n",
    "    df_list = []\n",
    "    for file in csv_files:\n",
    "        try:\n",
    "            df = pd.read_csv(file)\n",
    "            # Add a column for the ticker (optional)\n",
    "            ticker = os.path.basename(file).replace(\".csv\", \"\")  # Extract ticker from filename\n",
    "            df[\"Ticker\"] = ticker\n",
    "            df_list.append(df)\n",
    "            print(f\"Successfully read {file}\")\n",
    "        except Exception as e:\n",
    "            print(f\"Error reading {file}: {e}\")\n",
    "\n",
    "    # Step 5: Check if df_list is empty\n",
    "    if not df_list:\n",
    "        print(\"No DataFrames were created. Check the CSV files.\")\n",
    "    else:\n",
    "        # Step 6: Combine all DataFrames into one\n",
    "        combined_data = pd.concat(df_list, ignore_index=True)\n",
    "        print(\"Combined DataFrame:\")\n",
    "        print(combined_data.head())\n",
    "\n",
    "        # Step 7: Save the combined DataFrame to a new CSV file\n",
    "        output_file = os.path.join(folder_path, \"combined_225_stock_data.csv\")\n",
    "        combined_data.to_csv(output_file, index=False)\n",
    "        print(f\"Combined data saved to {output_file}\")"
   ]
  },
  {
   "cell_type": "code",
   "execution_count": null,
   "metadata": {},
   "outputs": [
    {
     "name": "stdout",
     "output_type": "stream",
     "text": [
      "        Price                Open              Close  Volume  \\\n",
      "0      Ticker              1332.T             1332.T  1332.T   \n",
      "1        Date                 NaN                NaN     NaN   \n",
      "2  2000-01-04   96.17342799484351  95.56473541259766  296000   \n",
      "3  2000-01-05   99.82558348831859  95.56473541259766  637000   \n",
      "4  2000-01-06  101.65168214575645  99.21691131591797  411000   \n",
      "\n",
      "                   Ticker  \n",
      "0  1332.T_historical_data  \n",
      "1  1332.T_historical_data  \n",
      "2  1332.T_historical_data  \n",
      "3  1332.T_historical_data  \n",
      "4  1332.T_historical_data  \n"
     ]
    },
    {
     "name": "stderr",
     "output_type": "stream",
     "text": [
      "C:\\Users\\dongv\\AppData\\Local\\Temp\\ipykernel_18156\\1248358547.py:1: DtypeWarning: Columns (1,2,3) have mixed types. Specify dtype option on import or set low_memory=False.\n",
      "  df = pd.read_csv('combined_225_stock_data.csv')\n"
     ]
    }
   ],
   "source": [
    "df = pd.read_csv('combined_225_stock_data.csv')\n",
    "print(df.head())"
   ]
  },
  {
   "cell_type": "code",
   "execution_count": null,
   "metadata": {},
   "outputs": [
    {
     "name": "stdout",
     "output_type": "stream",
     "text": [
      "        Price                Open              Close  Volume  \\\n",
      "2  2000-01-04   96.17342799484351  95.56473541259766  296000   \n",
      "3  2000-01-05   99.82558348831859  95.56473541259766  637000   \n",
      "4  2000-01-06  101.65168214575645  99.21691131591797  411000   \n",
      "5  2000-01-07   98.60819357245632  102.8690414428711  645000   \n",
      "6  2000-01-10   102.8690414428711  102.8690414428711       0   \n",
      "\n",
      "                   Ticker  \n",
      "2  1332.T_historical_data  \n",
      "3  1332.T_historical_data  \n",
      "4  1332.T_historical_data  \n",
      "5  1332.T_historical_data  \n",
      "6  1332.T_historical_data  \n"
     ]
    }
   ],
   "source": [
    "# drop the second and third rows \n",
    "df = df.drop([0, 1])\n",
    "print(df.head())"
   ]
  },
  {
   "cell_type": "code",
   "execution_count": null,
   "metadata": {},
   "outputs": [
    {
     "data": {
      "text/html": [
       "<div>\n",
       "<style scoped>\n",
       "    .dataframe tbody tr th:only-of-type {\n",
       "        vertical-align: middle;\n",
       "    }\n",
       "\n",
       "    .dataframe tbody tr th {\n",
       "        vertical-align: top;\n",
       "    }\n",
       "\n",
       "    .dataframe thead th {\n",
       "        text-align: right;\n",
       "    }\n",
       "</style>\n",
       "<table border=\"1\" class=\"dataframe\">\n",
       "  <thead>\n",
       "    <tr style=\"text-align: right;\">\n",
       "      <th></th>\n",
       "      <th>Date</th>\n",
       "      <th>Open</th>\n",
       "      <th>Close</th>\n",
       "      <th>Volume</th>\n",
       "      <th>Ticker</th>\n",
       "    </tr>\n",
       "  </thead>\n",
       "  <tbody>\n",
       "    <tr>\n",
       "      <th>2</th>\n",
       "      <td>2000-01-04</td>\n",
       "      <td>96.17342799484351</td>\n",
       "      <td>95.56473541259766</td>\n",
       "      <td>296000</td>\n",
       "      <td>1332.T_historical_data</td>\n",
       "    </tr>\n",
       "    <tr>\n",
       "      <th>3</th>\n",
       "      <td>2000-01-05</td>\n",
       "      <td>99.82558348831859</td>\n",
       "      <td>95.56473541259766</td>\n",
       "      <td>637000</td>\n",
       "      <td>1332.T_historical_data</td>\n",
       "    </tr>\n",
       "    <tr>\n",
       "      <th>4</th>\n",
       "      <td>2000-01-06</td>\n",
       "      <td>101.65168214575645</td>\n",
       "      <td>99.21691131591797</td>\n",
       "      <td>411000</td>\n",
       "      <td>1332.T_historical_data</td>\n",
       "    </tr>\n",
       "    <tr>\n",
       "      <th>5</th>\n",
       "      <td>2000-01-07</td>\n",
       "      <td>98.60819357245632</td>\n",
       "      <td>102.8690414428711</td>\n",
       "      <td>645000</td>\n",
       "      <td>1332.T_historical_data</td>\n",
       "    </tr>\n",
       "    <tr>\n",
       "      <th>6</th>\n",
       "      <td>2000-01-10</td>\n",
       "      <td>102.8690414428711</td>\n",
       "      <td>102.8690414428711</td>\n",
       "      <td>0</td>\n",
       "      <td>1332.T_historical_data</td>\n",
       "    </tr>\n",
       "    <tr>\n",
       "      <th>...</th>\n",
       "      <td>...</td>\n",
       "      <td>...</td>\n",
       "      <td>...</td>\n",
       "      <td>...</td>\n",
       "      <td>...</td>\n",
       "    </tr>\n",
       "    <tr>\n",
       "      <th>1312955</th>\n",
       "      <td>2025-02-12</td>\n",
       "      <td>9494.0</td>\n",
       "      <td>9856.0</td>\n",
       "      <td>9937100</td>\n",
       "      <td>9984.T_historical_data</td>\n",
       "    </tr>\n",
       "    <tr>\n",
       "      <th>1312956</th>\n",
       "      <td>2025-02-13</td>\n",
       "      <td>9600.0</td>\n",
       "      <td>9504.0</td>\n",
       "      <td>13388800</td>\n",
       "      <td>9984.T_historical_data</td>\n",
       "    </tr>\n",
       "    <tr>\n",
       "      <th>1312957</th>\n",
       "      <td>2025-02-14</td>\n",
       "      <td>9630.0</td>\n",
       "      <td>9637.0</td>\n",
       "      <td>10686400</td>\n",
       "      <td>9984.T_historical_data</td>\n",
       "    </tr>\n",
       "    <tr>\n",
       "      <th>1312958</th>\n",
       "      <td>2025-02-17</td>\n",
       "      <td>9600.0</td>\n",
       "      <td>9806.0</td>\n",
       "      <td>6719100</td>\n",
       "      <td>9984.T_historical_data</td>\n",
       "    </tr>\n",
       "    <tr>\n",
       "      <th>1312959</th>\n",
       "      <td>2025-02-18</td>\n",
       "      <td>9784.0</td>\n",
       "      <td>9839.0</td>\n",
       "      <td>6913500</td>\n",
       "      <td>9984.T_historical_data</td>\n",
       "    </tr>\n",
       "  </tbody>\n",
       "</table>\n",
       "<p>1312958 rows × 5 columns</p>\n",
       "</div>"
      ],
      "text/plain": [
       "               Date                Open              Close    Volume  \\\n",
       "2        2000-01-04   96.17342799484351  95.56473541259766    296000   \n",
       "3        2000-01-05   99.82558348831859  95.56473541259766    637000   \n",
       "4        2000-01-06  101.65168214575645  99.21691131591797    411000   \n",
       "5        2000-01-07   98.60819357245632  102.8690414428711    645000   \n",
       "6        2000-01-10   102.8690414428711  102.8690414428711         0   \n",
       "...             ...                 ...                ...       ...   \n",
       "1312955  2025-02-12              9494.0             9856.0   9937100   \n",
       "1312956  2025-02-13              9600.0             9504.0  13388800   \n",
       "1312957  2025-02-14              9630.0             9637.0  10686400   \n",
       "1312958  2025-02-17              9600.0             9806.0   6719100   \n",
       "1312959  2025-02-18              9784.0             9839.0   6913500   \n",
       "\n",
       "                         Ticker  \n",
       "2        1332.T_historical_data  \n",
       "3        1332.T_historical_data  \n",
       "4        1332.T_historical_data  \n",
       "5        1332.T_historical_data  \n",
       "6        1332.T_historical_data  \n",
       "...                         ...  \n",
       "1312955  9984.T_historical_data  \n",
       "1312956  9984.T_historical_data  \n",
       "1312957  9984.T_historical_data  \n",
       "1312958  9984.T_historical_data  \n",
       "1312959  9984.T_historical_data  \n",
       "\n",
       "[1312958 rows x 5 columns]"
      ]
     },
     "execution_count": 27,
     "metadata": {},
     "output_type": "execute_result"
    }
   ],
   "source": [
    "# Rename the first column\n",
    "df.rename(columns={'Price':'Date'}, inplace=True)\n",
    "df"
   ]
  },
  {
   "cell_type": "code",
   "execution_count": null,
   "metadata": {},
   "outputs": [
    {
     "name": "stdout",
     "output_type": "stream",
     "text": [
      "         Date                Open              Close  Volume  Ticker  \\\n",
      "2  2000-01-04   96.17342799484351  95.56473541259766  296000  1332.T   \n",
      "3  2000-01-05   99.82558348831859  95.56473541259766  637000  1332.T   \n",
      "4  2000-01-06  101.65168214575645  99.21691131591797  411000  1332.T   \n",
      "5  2000-01-07   98.60819357245632  102.8690414428711  645000  1332.T   \n",
      "6  2000-01-10   102.8690414428711  102.8690414428711       0  1332.T   \n",
      "\n",
      "       Other1 Other2  \n",
      "2  historical   data  \n",
      "3  historical   data  \n",
      "4  historical   data  \n",
      "5  historical   data  \n",
      "6  historical   data  \n"
     ]
    }
   ],
   "source": [
    "# Split Ticker column into \"Ticker\" and \"other\"\n",
    "df[['Ticker', 'Other1', 'Other2']] = df['Ticker'].str.split('_', expand=True)\n",
    "print(df.head())"
   ]
  },
  {
   "cell_type": "code",
   "execution_count": null,
   "metadata": {},
   "outputs": [
    {
     "data": {
      "text/html": [
       "<div>\n",
       "<style scoped>\n",
       "    .dataframe tbody tr th:only-of-type {\n",
       "        vertical-align: middle;\n",
       "    }\n",
       "\n",
       "    .dataframe tbody tr th {\n",
       "        vertical-align: top;\n",
       "    }\n",
       "\n",
       "    .dataframe thead th {\n",
       "        text-align: right;\n",
       "    }\n",
       "</style>\n",
       "<table border=\"1\" class=\"dataframe\">\n",
       "  <thead>\n",
       "    <tr style=\"text-align: right;\">\n",
       "      <th></th>\n",
       "      <th>Date</th>\n",
       "      <th>Open</th>\n",
       "      <th>Close</th>\n",
       "      <th>Volume</th>\n",
       "      <th>Ticker</th>\n",
       "    </tr>\n",
       "  </thead>\n",
       "  <tbody>\n",
       "    <tr>\n",
       "      <th>2</th>\n",
       "      <td>2000-01-04</td>\n",
       "      <td>96.17342799484351</td>\n",
       "      <td>95.56473541259766</td>\n",
       "      <td>296000</td>\n",
       "      <td>1332.T</td>\n",
       "    </tr>\n",
       "    <tr>\n",
       "      <th>3</th>\n",
       "      <td>2000-01-05</td>\n",
       "      <td>99.82558348831859</td>\n",
       "      <td>95.56473541259766</td>\n",
       "      <td>637000</td>\n",
       "      <td>1332.T</td>\n",
       "    </tr>\n",
       "    <tr>\n",
       "      <th>4</th>\n",
       "      <td>2000-01-06</td>\n",
       "      <td>101.65168214575645</td>\n",
       "      <td>99.21691131591797</td>\n",
       "      <td>411000</td>\n",
       "      <td>1332.T</td>\n",
       "    </tr>\n",
       "    <tr>\n",
       "      <th>5</th>\n",
       "      <td>2000-01-07</td>\n",
       "      <td>98.60819357245632</td>\n",
       "      <td>102.8690414428711</td>\n",
       "      <td>645000</td>\n",
       "      <td>1332.T</td>\n",
       "    </tr>\n",
       "    <tr>\n",
       "      <th>6</th>\n",
       "      <td>2000-01-10</td>\n",
       "      <td>102.8690414428711</td>\n",
       "      <td>102.8690414428711</td>\n",
       "      <td>0</td>\n",
       "      <td>1332.T</td>\n",
       "    </tr>\n",
       "    <tr>\n",
       "      <th>...</th>\n",
       "      <td>...</td>\n",
       "      <td>...</td>\n",
       "      <td>...</td>\n",
       "      <td>...</td>\n",
       "      <td>...</td>\n",
       "    </tr>\n",
       "    <tr>\n",
       "      <th>1312955</th>\n",
       "      <td>2025-02-12</td>\n",
       "      <td>9494.0</td>\n",
       "      <td>9856.0</td>\n",
       "      <td>9937100</td>\n",
       "      <td>9984.T</td>\n",
       "    </tr>\n",
       "    <tr>\n",
       "      <th>1312956</th>\n",
       "      <td>2025-02-13</td>\n",
       "      <td>9600.0</td>\n",
       "      <td>9504.0</td>\n",
       "      <td>13388800</td>\n",
       "      <td>9984.T</td>\n",
       "    </tr>\n",
       "    <tr>\n",
       "      <th>1312957</th>\n",
       "      <td>2025-02-14</td>\n",
       "      <td>9630.0</td>\n",
       "      <td>9637.0</td>\n",
       "      <td>10686400</td>\n",
       "      <td>9984.T</td>\n",
       "    </tr>\n",
       "    <tr>\n",
       "      <th>1312958</th>\n",
       "      <td>2025-02-17</td>\n",
       "      <td>9600.0</td>\n",
       "      <td>9806.0</td>\n",
       "      <td>6719100</td>\n",
       "      <td>9984.T</td>\n",
       "    </tr>\n",
       "    <tr>\n",
       "      <th>1312959</th>\n",
       "      <td>2025-02-18</td>\n",
       "      <td>9784.0</td>\n",
       "      <td>9839.0</td>\n",
       "      <td>6913500</td>\n",
       "      <td>9984.T</td>\n",
       "    </tr>\n",
       "  </tbody>\n",
       "</table>\n",
       "<p>1312958 rows × 5 columns</p>\n",
       "</div>"
      ],
      "text/plain": [
       "               Date                Open              Close    Volume  Ticker\n",
       "2        2000-01-04   96.17342799484351  95.56473541259766    296000  1332.T\n",
       "3        2000-01-05   99.82558348831859  95.56473541259766    637000  1332.T\n",
       "4        2000-01-06  101.65168214575645  99.21691131591797    411000  1332.T\n",
       "5        2000-01-07   98.60819357245632  102.8690414428711    645000  1332.T\n",
       "6        2000-01-10   102.8690414428711  102.8690414428711         0  1332.T\n",
       "...             ...                 ...                ...       ...     ...\n",
       "1312955  2025-02-12              9494.0             9856.0   9937100  9984.T\n",
       "1312956  2025-02-13              9600.0             9504.0  13388800  9984.T\n",
       "1312957  2025-02-14              9630.0             9637.0  10686400  9984.T\n",
       "1312958  2025-02-17              9600.0             9806.0   6719100  9984.T\n",
       "1312959  2025-02-18              9784.0             9839.0   6913500  9984.T\n",
       "\n",
       "[1312958 rows x 5 columns]"
      ]
     },
     "execution_count": 29,
     "metadata": {},
     "output_type": "execute_result"
    }
   ],
   "source": [
    "# Drop column Other1 and Other2\n",
    "df.drop(columns=['Other1', 'Other2'], inplace=True)\n",
    "df"
   ]
  },
  {
   "cell_type": "code",
   "execution_count": null,
   "metadata": {},
   "outputs": [
    {
     "data": {
      "text/plain": [
       "pandas.core.frame.DataFrame"
      ]
     },
     "execution_count": 30,
     "metadata": {},
     "output_type": "execute_result"
    }
   ],
   "source": [
    "type(df)"
   ]
  },
  {
   "cell_type": "code",
   "execution_count": null,
   "metadata": {},
   "outputs": [],
   "source": [
    "# Save result to new csv file\n",
    "#df.to_csv(\"225_stocks_data.csv\", index=False)"
   ]
  },
  {
   "cell_type": "code",
   "execution_count": null,
   "metadata": {},
   "outputs": [],
   "source": []
  }
 ],
 "metadata": {
  "kernelspec": {
   "display_name": "Python 3",
   "language": "python",
   "name": "python3"
  },
  "language_info": {
   "codemirror_mode": {
    "name": "ipython",
    "version": 3
   },
   "file_extension": ".py",
   "mimetype": "text/x-python",
   "name": "python",
   "nbconvert_exporter": "python",
   "pygments_lexer": "ipython3",
   "version": "3.12.4"
  }
 },
 "nbformat": 4,
 "nbformat_minor": 2
}
