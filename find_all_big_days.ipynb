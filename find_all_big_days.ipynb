{
 "cells": [
  {
   "cell_type": "code",
   "execution_count": 1,
   "metadata": {},
   "outputs": [],
   "source": [
    "import pandas as pd\n",
    "df = pd.read_csv('data/stock2008-23.csv')\n",
    "#Calculating the daily change, removing what seems to be unnecessary columns\n",
    "df['change'] = df['Close'] - df['Open']\n",
    "df['change_pct'] = df['change'] *100/ df['Open']\n",
    "df=df.drop(columns=['Open','High','Low','Close', 'Adj Close', 'Volume'])"
   ]
  },
  {
   "cell_type": "code",
   "execution_count": 3,
   "metadata": {},
   "outputs": [
    {
     "name": "stderr",
     "output_type": "stream",
     "text": [
      "C:\\Users\\SJANO\\AppData\\Local\\Temp\\ipykernel_8084\\718546351.py:19: DeprecationWarning: DataFrameGroupBy.apply operated on the grouping columns. This behavior is deprecated, and in a future version of pandas the grouping columns will be excluded from the operation. Either pass `include_groups=False` to exclude the groupings or explicitly select the grouping columns after groupby to silence this warning.\n",
      "  bounds = df.groupby('Date').apply(calculate_bounds).reset_index()\n",
      "C:\\Users\\SJANO\\AppData\\Local\\Temp\\ipykernel_8084\\718546351.py:19: DeprecationWarning: DataFrameGroupBy.apply operated on the grouping columns. This behavior is deprecated, and in a future version of pandas the grouping columns will be excluded from the operation. Either pass `include_groups=False` to exclude the groupings or explicitly select the grouping columns after groupby to silence this warning.\n",
      "  bounds = df.groupby('Date').apply(calculate_bounds).reset_index()\n",
      "C:\\Users\\SJANO\\AppData\\Local\\Temp\\ipykernel_8084\\718546351.py:19: DeprecationWarning: DataFrameGroupBy.apply operated on the grouping columns. This behavior is deprecated, and in a future version of pandas the grouping columns will be excluded from the operation. Either pass `include_groups=False` to exclude the groupings or explicitly select the grouping columns after groupby to silence this warning.\n",
      "  bounds = df.groupby('Date').apply(calculate_bounds).reset_index()\n",
      "C:\\Users\\SJANO\\AppData\\Local\\Temp\\ipykernel_8084\\718546351.py:19: DeprecationWarning: DataFrameGroupBy.apply operated on the grouping columns. This behavior is deprecated, and in a future version of pandas the grouping columns will be excluded from the operation. Either pass `include_groups=False` to exclude the groupings or explicitly select the grouping columns after groupby to silence this warning.\n",
      "  bounds = df.groupby('Date').apply(calculate_bounds).reset_index()\n",
      "C:\\Users\\SJANO\\AppData\\Local\\Temp\\ipykernel_8084\\718546351.py:19: DeprecationWarning: DataFrameGroupBy.apply operated on the grouping columns. This behavior is deprecated, and in a future version of pandas the grouping columns will be excluded from the operation. Either pass `include_groups=False` to exclude the groupings or explicitly select the grouping columns after groupby to silence this warning.\n",
      "  bounds = df.groupby('Date').apply(calculate_bounds).reset_index()\n",
      "C:\\Users\\SJANO\\AppData\\Local\\Temp\\ipykernel_8084\\718546351.py:19: DeprecationWarning: DataFrameGroupBy.apply operated on the grouping columns. This behavior is deprecated, and in a future version of pandas the grouping columns will be excluded from the operation. Either pass `include_groups=False` to exclude the groupings or explicitly select the grouping columns after groupby to silence this warning.\n",
      "  bounds = df.groupby('Date').apply(calculate_bounds).reset_index()\n",
      "C:\\Users\\SJANO\\AppData\\Local\\Temp\\ipykernel_8084\\718546351.py:19: DeprecationWarning: DataFrameGroupBy.apply operated on the grouping columns. This behavior is deprecated, and in a future version of pandas the grouping columns will be excluded from the operation. Either pass `include_groups=False` to exclude the groupings or explicitly select the grouping columns after groupby to silence this warning.\n",
      "  bounds = df.groupby('Date').apply(calculate_bounds).reset_index()\n",
      "C:\\Users\\SJANO\\AppData\\Local\\Temp\\ipykernel_8084\\718546351.py:19: DeprecationWarning: DataFrameGroupBy.apply operated on the grouping columns. This behavior is deprecated, and in a future version of pandas the grouping columns will be excluded from the operation. Either pass `include_groups=False` to exclude the groupings or explicitly select the grouping columns after groupby to silence this warning.\n",
      "  bounds = df.groupby('Date').apply(calculate_bounds).reset_index()\n",
      "C:\\Users\\SJANO\\AppData\\Local\\Temp\\ipykernel_8084\\718546351.py:19: DeprecationWarning: DataFrameGroupBy.apply operated on the grouping columns. This behavior is deprecated, and in a future version of pandas the grouping columns will be excluded from the operation. Either pass `include_groups=False` to exclude the groupings or explicitly select the grouping columns after groupby to silence this warning.\n",
      "  bounds = df.groupby('Date').apply(calculate_bounds).reset_index()\n",
      "C:\\Users\\SJANO\\AppData\\Local\\Temp\\ipykernel_8084\\718546351.py:19: DeprecationWarning: DataFrameGroupBy.apply operated on the grouping columns. This behavior is deprecated, and in a future version of pandas the grouping columns will be excluded from the operation. Either pass `include_groups=False` to exclude the groupings or explicitly select the grouping columns after groupby to silence this warning.\n",
      "  bounds = df.groupby('Date').apply(calculate_bounds).reset_index()\n",
      "C:\\Users\\SJANO\\AppData\\Local\\Temp\\ipykernel_8084\\718546351.py:19: DeprecationWarning: DataFrameGroupBy.apply operated on the grouping columns. This behavior is deprecated, and in a future version of pandas the grouping columns will be excluded from the operation. Either pass `include_groups=False` to exclude the groupings or explicitly select the grouping columns after groupby to silence this warning.\n",
      "  bounds = df.groupby('Date').apply(calculate_bounds).reset_index()\n",
      "C:\\Users\\SJANO\\AppData\\Local\\Temp\\ipykernel_8084\\718546351.py:19: DeprecationWarning: DataFrameGroupBy.apply operated on the grouping columns. This behavior is deprecated, and in a future version of pandas the grouping columns will be excluded from the operation. Either pass `include_groups=False` to exclude the groupings or explicitly select the grouping columns after groupby to silence this warning.\n",
      "  bounds = df.groupby('Date').apply(calculate_bounds).reset_index()\n"
     ]
    }
   ],
   "source": [
    "import pandas as pd\n",
    "\n",
    "# Get unique tickers\n",
    "unique_tickers = df['Ticker'].unique()\n",
    "\n",
    "# Loop through each unique ticker\n",
    "for ticker in unique_tickers:\n",
    "    # Filter data for the current ticker\n",
    "    ticker_data = df[df['Ticker'] == ticker][['Date', 'change_pct']].rename(columns={'change_pct': 'change'})\n",
    "\n",
    "    # Function to calculate upper and lower bounds\n",
    "    def calculate_bounds(group):\n",
    "        non_ticker = group[group['Ticker'] != ticker]['change_pct']\n",
    "        mean = non_ticker.mean()\n",
    "        std = non_ticker.std()\n",
    "        return pd.Series({'mean': mean, 'std': std})\n",
    "\n",
    "    # Group by Date to compute bounds\n",
    "    bounds = df.groupby('Date').apply(calculate_bounds).reset_index()\n",
    "\n",
    "    # Merge the ticker data with the bounds\n",
    "    df_alt_ticker = pd.merge(ticker_data, bounds, left_on='Date', right_on='Date')\n",
    "\n",
    "    # Calculate the effect column\n",
    "    def classify_effect(row):\n",
    "        if row['mean'] - row['std'] <= row['change'] <= row['mean'] + row['std']:\n",
    "            return 0\n",
    "        elif row['mean'] - 2 * row['std'] <= row['change'] < row['mean'] - row['std'] or \\\n",
    "             row['mean'] + row['std'] < row['change'] <= row['mean'] + 2 * row['std']:\n",
    "            return 1\n",
    "        elif row['mean'] - 3 * row['std'] <= row['change'] < row['mean'] - 2 * row['std'] or \\\n",
    "             row['mean'] + 2 * row['std'] < row['change'] <= row['mean'] + 3 * row['std']:\n",
    "            return 2\n",
    "        else:\n",
    "            return 3\n",
    "\n",
    "    df_alt_ticker['effect'] = df_alt_ticker.apply(classify_effect, axis=1)\n",
    "\n",
    "    # Final dataframe with required columns\n",
    "    df_alt_ticker = df_alt_ticker[['Date', 'change', 'mean', 'std', 'effect']]\n",
    "\n",
    "    # Create specific file for the current ticker\n",
    "    df_alt_ticker.to_csv(f'data/test//multi_log_reg/multi_{ticker.replace(\"^\", \"\")}.csv', index=False)"
   ]
  }
 ],
 "metadata": {
  "kernelspec": {
   "display_name": "Python 3",
   "language": "python",
   "name": "python3"
  },
  "language_info": {
   "codemirror_mode": {
    "name": "ipython",
    "version": 3
   },
   "file_extension": ".py",
   "mimetype": "text/x-python",
   "name": "python",
   "nbconvert_exporter": "python",
   "pygments_lexer": "ipython3",
   "version": "3.13.0"
  }
 },
 "nbformat": 4,
 "nbformat_minor": 2
}
